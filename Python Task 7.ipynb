{
  "cells": [
    {
      "cell_type": "markdown",
      "metadata": {
        "id": "FyUJ3PRAsPr4"
      },
      "source": [
        "##`Q-1:` Rectangle Class\n",
        "1. Write a Rectangle class in Python language, allowing you to build a rectangle with length and width attributes.\n",
        "\n",
        "2. Create a Perimeter() method to calculate the perimeter of the rectangle and a Area() method to calculate the area of ​​the rectangle.\n",
        "\n",
        "3. Create a method display() that display the length, width, perimeter and area of an object created using an instantiation on rectangle class."
      ]
    },
    {
      "cell_type": "markdown",
      "metadata": {
        "id": "GxUtOqJfssFK"
      },
      "source": [
        "Eg.\n",
        "After making above classes and methods, on executing below code:-\n",
        "```\n",
        "my_rectangle = Rectangle(3 , 4)\n",
        "my_rectangle.display()\n",
        "```\n",
        "\n",
        "`Output:`\n",
        "```\n",
        "The length of rectangle is:  3\n",
        "The width of rectangle is:  4\n",
        "The perimeter of rectangle is:  14\n",
        "The area of rectangle is:  12\n",
        "```\n"
      ]
    },
    {
      "cell_type": "code",
      "execution_count": 14,
      "metadata": {
        "id": "92_QT-Uj6NBg"
      },
      "outputs": [
        {
          "name": "stdout",
          "output_type": "stream",
          "text": [
            "The length of rectangle is:  3\n",
            "The width of rectangle is:  4\n",
            "The perimeter of rectangle is: 14\n",
            "The area of rectangle is: 12\n"
          ]
        }
      ],
      "source": [
        "# write your code here\n",
        "\n",
        "class Rectangle:\n",
        "\n",
        "    def __init__(self, a, b):\n",
        "        self.a = a\n",
        "        self.b = b\n",
        "\n",
        "    def perimeter(self, a, b):\n",
        "        p = 2*(a+b)\n",
        "        return f\"The perimeter of rectangle is: {p}\"\n",
        "\n",
        "    def area(self, a, b):\n",
        "        ar = a*b\n",
        "        return f\"The area of rectangle is: {ar}\"\n",
        "\n",
        "    def display(self):\n",
        "        return print(f\"The length of rectangle is:  {self.a}\", f\"The width of rectangle is:  {self.b}\", self.perimeter(self.a, self.b), self.area(self.a, self.b), sep=\"\\n\")\n",
        "\n",
        "my_rectangle = Rectangle(3 , 4)\n",
        "my_rectangle.display()\n"
      ]
    },
    {
      "cell_type": "markdown",
      "metadata": {
        "id": "r_GxrS0Vrdom"
      },
      "source": [
        "##`Q-2: Bank Class`\n",
        "\n",
        "1. Create a Python class called `BankAccount` which represents a bank account, having as attributes: `accountNumber` (numeric type), `name` (name of the account owner as string type), `balance`.\n",
        "2. Create a constructor with parameters: `accountNumber, name, balance`.\n",
        "3. Create a `Deposit()` method which manages the deposit actions.\n",
        "4. Create a `Withdrawal()` method  which manages withdrawals actions.\n",
        "5. Create an `bankFees()` method to apply the bank fees with a percentage of 5% of the balance account.\n",
        "6. Create a `display()` method to display account details.\n",
        "Give the complete code for the  BankAccount class."
      ]
    },
    {
      "cell_type": "markdown",
      "metadata": {
        "id": "qvVkOUJgvTV_"
      },
      "source": [
        "Eg.\n",
        "After making above classes and methods, on executing below code:-\n",
        "```\n",
        "newAccount = BankAccount(2178514584, \"Mandy\" , 2800)\n",
        "\n",
        "newAccount.Withdrawal(700)\n",
        "\n",
        "newAccount.Deposit(1000)\n",
        "\n",
        "newAccount.display()\n",
        "```\n",
        "\n",
        "`Output:`\n",
        "```\n",
        "Account Number :  2178514584\n",
        "Account Name :  Mandy\n",
        "Account Balance :  3100 ₹\n",
        "```"
      ]
    },
    {
      "cell_type": "code",
      "execution_count": 19,
      "metadata": {
        "id": "fUQOmQyA6YDR"
      },
      "outputs": [
        {
          "name": "stdout",
          "output_type": "stream",
          "text": [
            "Account Number: 2178514584\n",
            "Account Name: Mandy\n",
            "Account Balance: 3015.0\n"
          ]
        }
      ],
      "source": [
        "# write your code here\n",
        "\n",
        "class BankAccount:\n",
        "\n",
        "    def __init__(self, accountNumber, name, balance):\n",
        "        self.accountNumber = accountNumber\n",
        "        self.name = name\n",
        "        self.balance = balance\n",
        "    \n",
        "    def Deposit(self, balance):\n",
        "        self.balance += balance\n",
        "        self.bankFees(balance)\n",
        "        return f\"Total balance is: {self.balance}\"\n",
        "    \n",
        "    def Withdrawl(self, amount):\n",
        "        self.balance -= amount\n",
        "        self.bankFees(amount)\n",
        "        return f\"Remaining balance is: {self.balance}\"\n",
        "    \n",
        "    def bankFees(self, Tamount):\n",
        "        self.balance -=  (Tamount/100)*5\n",
        "        return self.balance\n",
        "    \n",
        "    def display(self):\n",
        "        return print(f\"Account Number: {self.accountNumber}\", f\"Account Name: {self.name}\", f\"Account Balance: {self.balance}\" ,sep=\"\\n\")\n",
        "        \n",
        "\n",
        "newAccount = BankAccount(2178514584, \"Mandy\" , 2800)\n",
        "\n",
        "newAccount.Withdrawl(700)\n",
        "\n",
        "newAccount.Deposit(1000)\n",
        "\n",
        "newAccount.display()"
      ]
    },
    {
      "cell_type": "markdown",
      "metadata": {
        "id": "QovcQAZTrgGU"
      },
      "source": [
        "##`Q-3:Computation class`\n",
        "\n",
        "1. Create a `Computation` class with a default constructor (without parameters) allowing to perform various calculations on integers numbers.\n",
        "2. Create a method called `Factorial()` which allows to calculate the factorial of an integer n. Integer n as parameter for this method\n",
        "\n",
        "3. Create a method called `naturalSum()` allowing to calculate the sum of the first n integers 1 + 2 + 3 + .. + n. Integer n as parameter for this method.\n",
        "\n",
        "4. Create a method called `testPrime()` in  the Calculation class to test the primality of a given integer n, n is Prime or Not? Integer n as parameter for this method.\n",
        "\n",
        "5. Create  a method called `testPrims()` allowing to test if two numbers are prime between them. Two integers are prime to one another if they have only `1` as their common divisor. Eg. 4 and 9 are prime to each other.\n",
        "\n",
        "5. Create a `tableMult()` method which creates and displays the multiplication table of a given integer. Then create an `allTablesMult()` method to display all the integer multiplication tables 1, 2, 3, ..., 9.\n",
        "\n",
        "6. Create a static `listDiv()` method that gets all the divisors of a given integer on new list called  Ldiv. Create another `listDivPrim()` method that gets all the prime divisors of a given integer."
      ]
    },
    {
      "cell_type": "code",
      "execution_count": 2,
      "metadata": {
        "id": "YEkPH70l6Z-o"
      },
      "outputs": [
        {
          "name": "stdout",
          "output_type": "stream",
          "text": [
            "Given Number i.e, 1 is Not Prime\n",
            "Given Number i.e 31 is Prime\n",
            "[31]\n"
          ]
        }
      ],
      "source": [
        "# write your code here\n",
        "\n",
        "class Computation:\n",
        "    def __init__(self):\n",
        "        pass\n",
        "\n",
        "\n",
        "\n",
        "    def Factorial(self, num):\n",
        "        if num == 0:\n",
        "            return 0\n",
        "        elif num == 1:\n",
        "            return 1\n",
        "        else:\n",
        "            factorial = num*self.Factorial(num -1)\n",
        "            return factorial\n",
        "        \n",
        "\n",
        "\n",
        "\n",
        "    def naturalSum(self, num):\n",
        "        Sum = 0\n",
        "        for i in range(1, num+1):\n",
        "            Sum+=i\n",
        "        return Sum\n",
        "    \n",
        "\n",
        "\n",
        "\n",
        "    def testPrime(self, Integer):     \n",
        "        isPrime = True\n",
        "        if Integer == 1:\n",
        "            isPrime = False\n",
        "        elif Integer == 2:\n",
        "            isPrime = True\n",
        "        else:\n",
        "            for i in range(2, Integer-1):\n",
        "                if Integer%i == 0:\n",
        "                    isPrime = False\n",
        "        if isPrime == True:\n",
        "            print(f\"Given Number i.e {Integer} is Prime\")\n",
        "            return Integer\n",
        "        else:\n",
        "            print(f\"Given Number i.e, {Integer} is Not Prime\")\n",
        "            return 0\n",
        "    \n",
        "\n",
        "\n",
        "\n",
        "    def testPrims(self, num1, num2):\n",
        "        isPrime = f\"{num1} and {num2} are Prime to each other\"\n",
        "        for i in range(2, max(num1, num2)+1):\n",
        "            if num1 % i == 0 and num2 % i == 0:\n",
        "                isPrime = f\"{num1} and {num2} are not Prime to each other\"\n",
        "        return isPrime\n",
        "    \n",
        "\n",
        "\n",
        "    def tableMult(self, num):\n",
        "        for i in range(1, 11):\n",
        "            print(f\"{num} x {i} = {num*i}\")\n",
        "\n",
        "\n",
        "\n",
        "    def allTableMult(self):\n",
        "        for i in range(1, 10):\n",
        "            print(f\"Displaying Multiplication Table of {i}\")\n",
        "            for j in range(1, 11):\n",
        "                print(f\"{i} x {j} = {i*j}\")\n",
        "    \n",
        "    @staticmethod\n",
        "    def listDiv(num):\n",
        "        Ldiv = []\n",
        "        for i in range(1, num+1):\n",
        "            if num%i == 0:\n",
        "                Ldiv.append(i)\n",
        "        return Ldiv\n",
        "    \n",
        "    def listDivPrim(self, num):\n",
        "        numList = self.listDiv(num)\n",
        "        pNumList = []\n",
        "        for i in numList:\n",
        "            P = self.testPrime(i)\n",
        "            if P != 0:\n",
        "                pNumList.append(i)\n",
        "        return pNumList\n",
        "\n",
        "\n",
        "comp = Computation()\n",
        "print(comp.listDivPrim(31))"
      ]
    },
    {
      "cell_type": "markdown",
      "metadata": {
        "id": "0yn23_oEriXa"
      },
      "source": [
        "##`Q-4`: Build flashcard using class in Python.\n",
        "\n",
        "Build a flashcard using class in python. A flashcard is a card having information on both sides, which can be used as an aid in memoization. Flashcards usually have a question on one side and an answer on the other.\n",
        "\n",
        "**Example 1:**\n",
        "\n",
        "Approach:\n",
        "\n",
        "- Create a class named FlashCard.\n",
        "- Initialize dictionary fruits using __init__() method. Here you have to define fruit name as key and it's color as value. E.g., {\"Banana\": \"yellow\", \"Strawberries\": \"pink\"}\n",
        "- Now randomly choose a pair from fruits by using _random_ module and store the key in variable _fruit_ and _value_ in variable color.\n",
        "- Now prompt the user to answer the color of the randomly chosen fruit.\n",
        "- If correct print correct else print wrong.\n",
        "\n",
        "Output:\n",
        "```bash\n",
        "welcome to fruit quiz\n",
        "What is the color of Strawberries\n",
        "pink\n",
        "Correct answer\n",
        "Enter 0, if you want to play again: 0\n",
        "What is the color of watermelon\n",
        "green\n",
        "Correct answer\n",
        "Enter 0, if you want to play again: 1\n",
        "```"
      ]
    },
    {
      "cell_type": "code",
      "execution_count": 3,
      "metadata": {
        "id": "vCrUF6VU6l6w"
      },
      "outputs": [
        {
          "name": "stdout",
          "output_type": "stream",
          "text": [
            "Correct answer!\n",
            "Correct answer!\n",
            "Wrong Answer! try again...\n",
            "Wrong Answer! try again...\n"
          ]
        },
        {
          "ename": "ValueError",
          "evalue": "invalid literal for int() with base 10: ''",
          "output_type": "error",
          "traceback": [
            "\u001b[1;31m---------------------------------------------------------------------------\u001b[0m",
            "\u001b[1;31mValueError\u001b[0m                                Traceback (most recent call last)",
            "Cell \u001b[1;32mIn[3], line 29\u001b[0m\n\u001b[0;32m     25\u001b[0m                 \u001b[38;5;28mprint\u001b[39m(\u001b[38;5;124m\"\u001b[39m\u001b[38;5;124mWrong Answer! try again...\u001b[39m\u001b[38;5;124m\"\u001b[39m)\n\u001b[0;32m     26\u001b[0m                 i \u001b[38;5;241m=\u001b[39m \u001b[38;5;28mint\u001b[39m(\u001b[38;5;28minput\u001b[39m(\u001b[38;5;124m\"\u001b[39m\u001b[38;5;124mEnter 0, if you want to play again.\u001b[39m\u001b[38;5;130;01m\\n\u001b[39;00m\u001b[38;5;124m\"\u001b[39m))\n\u001b[1;32m---> 29\u001b[0m game1 \u001b[38;5;241m=\u001b[39m \u001b[43mFlashCard\u001b[49m\u001b[43m(\u001b[49m\u001b[43m{\u001b[49m\u001b[38;5;124;43m\"\u001b[39;49m\u001b[38;5;124;43mBanana\u001b[39;49m\u001b[38;5;124;43m\"\u001b[39;49m\u001b[43m:\u001b[49m\u001b[43m \u001b[49m\u001b[38;5;124;43m\"\u001b[39;49m\u001b[38;5;124;43myellow\u001b[39;49m\u001b[38;5;124;43m\"\u001b[39;49m\u001b[43m,\u001b[49m\u001b[43m \u001b[49m\u001b[38;5;124;43m\"\u001b[39;49m\u001b[38;5;124;43mStrawberries\u001b[39;49m\u001b[38;5;124;43m\"\u001b[39;49m\u001b[43m:\u001b[49m\u001b[43m \u001b[49m\u001b[38;5;124;43m\"\u001b[39;49m\u001b[38;5;124;43mpink\u001b[39;49m\u001b[38;5;124;43m\"\u001b[39;49m\u001b[43m,\u001b[49m\u001b[43m \u001b[49m\u001b[38;5;124;43m\"\u001b[39;49m\u001b[38;5;124;43mWatermenlon\u001b[39;49m\u001b[38;5;124;43m\"\u001b[39;49m\u001b[43m:\u001b[49m\u001b[43m \u001b[49m\u001b[38;5;124;43m\"\u001b[39;49m\u001b[38;5;124;43mgreen\u001b[39;49m\u001b[38;5;124;43m\"\u001b[39;49m\u001b[43m,\u001b[49m\u001b[43m \u001b[49m\u001b[38;5;124;43m\"\u001b[39;49m\u001b[38;5;124;43mgrapes\u001b[39;49m\u001b[38;5;124;43m\"\u001b[39;49m\u001b[43m:\u001b[49m\u001b[43m \u001b[49m\u001b[38;5;124;43m\"\u001b[39;49m\u001b[38;5;124;43mgreen\u001b[39;49m\u001b[38;5;124;43m\"\u001b[39;49m\u001b[43m,\u001b[49m\u001b[43m \u001b[49m\u001b[38;5;124;43m\"\u001b[39;49m\u001b[38;5;124;43mpomegranate\u001b[39;49m\u001b[38;5;124;43m\"\u001b[39;49m\u001b[43m:\u001b[49m\u001b[43m \u001b[49m\u001b[38;5;124;43m\"\u001b[39;49m\u001b[38;5;124;43mred\u001b[39;49m\u001b[38;5;124;43m\"\u001b[39;49m\u001b[43m}\u001b[49m\u001b[43m)\u001b[49m\n",
            "Cell \u001b[1;32mIn[3], line 9\u001b[0m, in \u001b[0;36mFlashCard.__init__\u001b[1;34m(self, myDict)\u001b[0m\n\u001b[0;32m      7\u001b[0m \u001b[38;5;28;01mdef\u001b[39;00m\u001b[38;5;250m \u001b[39m\u001b[38;5;21m__init__\u001b[39m(\u001b[38;5;28mself\u001b[39m, myDict):\n\u001b[0;32m      8\u001b[0m     \u001b[38;5;28mself\u001b[39m\u001b[38;5;241m.\u001b[39mmyDict \u001b[38;5;241m=\u001b[39m myDict\n\u001b[1;32m----> 9\u001b[0m     \u001b[38;5;28;43mself\u001b[39;49m\u001b[38;5;241;43m.\u001b[39;49m\u001b[43mflashGame\u001b[49m\u001b[43m(\u001b[49m\u001b[43mmyDict\u001b[49m\u001b[43m)\u001b[49m\n",
            "Cell \u001b[1;32mIn[3], line 26\u001b[0m, in \u001b[0;36mFlashCard.flashGame\u001b[1;34m(self, Dictonary)\u001b[0m\n\u001b[0;32m     24\u001b[0m \u001b[38;5;28;01melse\u001b[39;00m:\n\u001b[0;32m     25\u001b[0m     \u001b[38;5;28mprint\u001b[39m(\u001b[38;5;124m\"\u001b[39m\u001b[38;5;124mWrong Answer! try again...\u001b[39m\u001b[38;5;124m\"\u001b[39m)\n\u001b[1;32m---> 26\u001b[0m     i \u001b[38;5;241m=\u001b[39m \u001b[38;5;28;43mint\u001b[39;49m\u001b[43m(\u001b[49m\u001b[38;5;28;43minput\u001b[39;49m\u001b[43m(\u001b[49m\u001b[38;5;124;43m\"\u001b[39;49m\u001b[38;5;124;43mEnter 0, if you want to play again.\u001b[39;49m\u001b[38;5;130;43;01m\\n\u001b[39;49;00m\u001b[38;5;124;43m\"\u001b[39;49m\u001b[43m)\u001b[49m\u001b[43m)\u001b[49m\n",
            "\u001b[1;31mValueError\u001b[0m: invalid literal for int() with base 10: ''"
          ]
        }
      ],
      "source": [
        "# write your code here\n",
        "\n",
        "import random\n",
        "\n",
        "class FlashCard:\n",
        "\n",
        "    def __init__(self, myDict):\n",
        "        self.myDict = myDict\n",
        "        self.flashGame(myDict)\n",
        "\n",
        "    def flashGame(self, Dictonary):\n",
        "        i = 0\n",
        "        while i == 0:\n",
        "\n",
        "            s = Dictonary\n",
        "\n",
        "            fruit = random.choice(list(s.keys()))\n",
        "\n",
        "            response = input(f\"What is the color of {fruit} ? \\n\")\n",
        "\n",
        "            if s[fruit] == response:\n",
        "                print(\"Correct answer!\")\n",
        "                i = int(input(\"Enter 0, if you want to play again.\\n\"))\n",
        "            else:\n",
        "                print(\"Wrong Answer! try again...\")\n",
        "                i = int(input(\"Enter 0, if you want to play again.\\n\"))\n",
        "\n",
        "\n",
        "game1 = FlashCard({\"Banana\": \"yellow\", \"Strawberries\": \"pink\", \"Watermenlon\": \"green\", \"grapes\": \"green\", \"pomegranate\": \"red\"})"
      ]
    },
    {
      "cell_type": "markdown",
      "metadata": {
        "id": "GN2r0jbRewYr"
      },
      "source": [
        "## `Q-5:` Problem 5 based on OOP Python.\n",
        "\n",
        "TechWorld, a technology training center, wants to allocate courses for instructors. An instructor is identified by name, technology skills, experience and average feedback. An instructor is allocated a course, if he/she satisfies the below two conditions:\n",
        "- eligibility criteria:\n",
        "    - if experience is more than 3 years, average feedback should be 4.5 or more\n",
        "    - if experience is 3 years or less, average feedback should be 4 or more\n",
        "- he/she should posses the technology skill for the course\n",
        "\n",
        "Identify the class name and attributes to represent instructors. Write a Python program to implement the class chosen with its attributes and methods.\n",
        "\n",
        "**Note:**\n",
        "- Consider all instance variables to be private and methods to be public.\n",
        "- An instructor may have multiple technology skills, so consider instance variable, technology_skill to be a list.\n",
        "- *check_eligibility()*: Return true if eligibility criteria is satisfied by the instructor. Else, return false\n",
        "- *allocate_course(technology)*: Return true if the course which requires the given technology can be allocated to the instructor. Else, return false.\n",
        "\n",
        "Represent a few objects of the class, initialize instance variables using setter methods, invoke\n",
        "appropriate methods and test your program."
      ]
    },
    {
      "cell_type": "code",
      "execution_count": null,
      "metadata": {
        "id": "pdMFuVFnlvKL"
      },
      "outputs": [],
      "source": [
        "# write your code here\n",
        "\n",
        "class FindInstructor:\n",
        "    def __init__(self, name, technology_skills, experience, avg_feedback):\n",
        "        self.__name = name\n",
        "        self.__skills = technology_skills\n",
        "        self.__experience = experience\n",
        "        self.__avg_feedback = avg_feedback\n",
        "        \n",
        "    def check_eligibility(self):\n",
        "        if self.__experience > 3 and self.__avg_feedback >= 4.5:\n",
        "            print(\"Congratulation! You are eligible.\")\n",
        "            return True\n",
        "        elif self.__experience <= 3 and self.__avg_feedback >= 4:\n",
        "            print(\"Congratulation! You are eligible.\")\n",
        "            return True\n",
        "        else:\n",
        "            print(\"Sorry! You are not eligible.\")\n",
        "            return False\n",
        "\n",
        "    def allocate_course(self, technology):\n",
        "        if self.check_eligibility():\n",
        "            if technology in self.__skills:\n",
        "                print(f\"{self.__name} is allocated for {technology} course.\")\n",
        "            else:\n",
        "                print(f\"Can't allocate because {self.__name} skills set doesn't possesses {technology}.\")\n",
        "        else:\n",
        "            print(\"Sorry! You are not eligible to teach on our platform.\")\n",
        "    \n",
        "    def get_details(self):\n",
        "        print(f\"\"\"Instructor Name is {self.__name} \\nHe mastered in {self.__skills} \\nHe possesses experience of {self.__experience} years \\nand have an average feedback of {self.__avg_feedback}\"\"\")\n",
        "\n",
        "    def set_details(self, skills, experience, avg_feedback):\n",
        "        self.__skills = skills\n",
        "        self.__experience = experience\n",
        "        self.__avg_feedback = avg_feedback\n",
        "        print(\"Fields are updated successfully!\")       \n",
        "    \n",
        "\n",
        "Instructor1 = FindInstructor(\"Akram\", [\"HTML\", \"CSS\", \"Javascript\", \"ReactJS\", \"Python\", \"Numpy\", \"Pandas\", \"PyTorch\", \"Langchain\", \"PowerBI\", \"Tableau\"], 5, 4.5)\n",
        "\n",
        "Instructor1.get_details()\n",
        "Instructor1.check_eligibility()\n",
        "Instructor1.allocate_course(\"CODE\")"
      ]
    }
  ],
  "metadata": {
    "colab": {
      "provenance": []
    },
    "kernelspec": {
      "display_name": "Python 3",
      "name": "python3"
    },
    "language_info": {
      "codemirror_mode": {
        "name": "ipython",
        "version": 3
      },
      "file_extension": ".py",
      "mimetype": "text/x-python",
      "name": "python",
      "nbconvert_exporter": "python",
      "pygments_lexer": "ipython3",
      "version": "3.12.8"
    }
  },
  "nbformat": 4,
  "nbformat_minor": 0
}
