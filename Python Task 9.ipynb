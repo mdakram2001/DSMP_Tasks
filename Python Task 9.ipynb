{
  "cells": [
    {
      "cell_type": "markdown",
      "metadata": {
        "id": "BCleRtX43caS"
      },
      "source": [
        "### `Problem-1:` Class inheritence\n",
        "\n",
        "Create a **Bus** child class that inherits from the Vehicle class. The default fare charge of any vehicle is seating capacity * 100. If Vehicle is Bus instance, we need to add an extra 10% on full fare as a maintenance charge. So total fare for bus instance will become the final amount = total fare + 10% of the total fare.\n",
        "\n",
        "Note: The bus seating capacity is 50. so the final fare amount should be 5500. You need to override the fare() method of a Vehicle class in Bus class."
      ]
    },
    {
      "cell_type": "code",
      "execution_count": null,
      "metadata": {
        "colab": {
          "base_uri": "https://localhost:8080/"
        },
        "id": "6jVFCXKz3YZI",
        "outputId": "a8649209-08e2-4f60-a914-74a914dd697e"
      },
      "outputs": [
        {
          "name": "stdout",
          "output_type": "stream",
          "text": [
            "100\n",
            "11000.0\n"
          ]
        }
      ],
      "source": [
        "# Write code here\n",
        "\n",
        "class Vehicle:\n",
        "    def __init__(self, capacity):\n",
        "        self.capacity = capacity\n",
        "    \n",
        "    def fare(self):\n",
        "        fare = self.capacity*100\n",
        "        return fare\n",
        "    \n",
        "class Bus(Vehicle):\n",
        "    def fare(self):\n",
        "        fare = self.capacity*100\n",
        "        busFare = fare + (fare/10)\n",
        "        return busFare\n",
        "\n",
        "b1 = Bus(100)\n",
        "v1 = Vehicle(100)\n",
        "print(b1.capacity)\n",
        "print(b1.fare())"
      ]
    },
    {
      "cell_type": "markdown",
      "metadata": {
        "id": "KBbGNTtQ47mJ"
      },
      "source": [
        "### `Problem-2:` Class Inheritence\n",
        "\n",
        "Create a Bus class that inherits from the Vehicle class. Give the capacity argument of *Bus.seating_capacity()* a default value of 50.\n",
        "\n",
        "Use the following code for your parent Vehicle class."
      ]
    },
    {
      "cell_type": "code",
      "execution_count": null,
      "metadata": {
        "id": "MwOnYE_14M-r"
      },
      "outputs": [],
      "source": [
        "class Vehicle:\n",
        "    def __init__(self, capacity):\n",
        "        self.capacity = capacity\n",
        "    \n",
        "    def fare(self):\n",
        "        fare = self.capacity*100\n",
        "        return fare\n",
        "    \n",
        "class Bus(Vehicle):\n",
        "    def seating_capacity(self, capacity = 50):\n",
        "        self.capacity = capacity\n",
        "    def fare(self):\n",
        "        fare = self.capacity*100\n",
        "        busFare = fare + (fare/10)\n",
        "        return busFare\n",
        "\n",
        "b1 = Bus(100)\n",
        "# v1 = Vehicle(100)\n",
        "# b1.seating_capacity()\n",
        "print(b1.capacity)\n",
        "print(b1.fare())"
      ]
    },
    {
      "cell_type": "markdown",
      "metadata": {
        "id": "ExIxsv4y-oEd"
      },
      "source": [
        "### `Problem-3:` Write a program that has a class Point. Define another class Location which has two objects (Location & Destination) of class Point. Also define a function in Location that prints the reflection of Destination on the x axis."
      ]
    },
    {
      "cell_type": "code",
      "execution_count": null,
      "metadata": {},
      "outputs": [],
      "source": [
        "class Point:\n",
        "    def __init__(self, x, y):\n",
        "        self.x = x\n",
        "        self.y = y\n",
        "\n",
        "    def show(self):\n",
        "        return f\"coordinate is {self.x},{self.y}\"\n",
        "    \n",
        "class Location:\n",
        "\n",
        "    def __init__(self, source, destination):\n",
        "        self.source = source\n",
        "        self.destination = destination\n",
        "\n",
        "    def show(self):\n",
        "        print(f\"Source {self.source.show()}\")\n",
        "        print(f\"Destination {self.destination.show()}\")\n",
        "\n",
        "    def reflection(self):\n",
        "        print(f\"Reflection of the destination is: {self.destination.x , -(self.destination.y)}\")\n",
        "\n",
        "\n",
        "p1 = Point(2,5)\n",
        "p2 = Point(6,3)\n",
        "\n",
        "l1 = Location(p1,p2)\n",
        "\n",
        "l1.show()\n",
        "l1.reflection()"
      ]
    },
    {
      "cell_type": "markdown",
      "metadata": {
        "id": "OcQhJvXVALgp"
      },
      "source": [
        "### `Problem-4:` Write a program that has an abstract class Polygon. Derive two classes Rectangle and Triamgle from Polygon and write methods to get the details of their dimensions and hence calculate the area."
      ]
    },
    {
      "cell_type": "code",
      "execution_count": null,
      "metadata": {
        "id": "9IMrtdUH__eA"
      },
      "outputs": [],
      "source": [
        "from abc import ABC,abstractmethod\n",
        "\n",
        "class Polygon(ABC):\n",
        "\n",
        "    @abstractmethod\n",
        "    def get_details(self):\n",
        "        pass\n",
        "\n",
        "    @abstractmethod\n",
        "    def area(self):\n",
        "        pass\n",
        "\n",
        "\n",
        "class Rectangle(Polygon):\n",
        "\n",
        "    def __init__(self, l, b):\n",
        "        self.length = l\n",
        "        self.breathe = b\n",
        "\n",
        "    def get_details(self, l, b):\n",
        "        return f\"Length & Breathe of the Rectangle is {self.length} & {self.breathe}\"\n",
        "\n",
        "    def area(self):\n",
        "        return self.length*self.breathe\n",
        "    \n",
        "class Triangle(Polygon):\n",
        "    \n",
        "    def __init__(self, b, h):\n",
        "        self.base = b\n",
        "        self.height = h\n",
        "\n",
        "    def get_details(self):\n",
        "        return f\"Base and Height of the Trangle is {self.base} & {self.height}\"\n",
        "    \n",
        "    def area(self):\n",
        "        return 0.5*self.base*self.height\n",
        "    \n",
        "\n",
        "\n",
        "t1 =Triangle(4,6)\n",
        "print(t1.get_details())\n",
        "print(t1.area())"
      ]
    },
    {
      "cell_type": "markdown",
      "metadata": {
        "id": "sEsGEqOHCSWG"
      },
      "source": [
        "### `Problem-5:` Write a program with class Bill. The users have the option to pay the bill either by cheque or by cash. Use the inheritance to model this situation."
      ]
    },
    {
      "cell_type": "code",
      "execution_count": null,
      "metadata": {
        "id": "l0WFyP2PB3nf"
      },
      "outputs": [],
      "source": [
        "class Bill:\n",
        "    def __init__(self, items, amount):\n",
        "        self.total = 0\n",
        "        self.items =items\n",
        "        self.amount = amount\n",
        "\n",
        "class Cheque(Bill):\n",
        "    def __init__(self, items, amount, bank, account_number, branch):\n",
        "        super().__init__(items, amount)\n",
        "        self.bank = bank\n",
        "        self.account_number = account_number\n",
        "        self.branch = branch\n",
        "\n",
        "class Cash(Bill):\n",
        "    def __init__(self, items, amount):\n",
        "        super().__init__(items, amount)\n"
      ]
    },
    {
      "cell_type": "markdown",
      "metadata": {
        "id": "v1M5Yh9ZZO0z"
      },
      "source": [
        "###`Q-6:` FlexibleDict\n",
        "As of now we are accessing values from dictionary with exact keys. Now we want to amend accessing values functionality. if a dict have key `1` (int) the even if we try to access values by giving `'1'` (1 as str) as key, we should get the same result and vice versa.\n",
        "\n",
        "Write a class `FlexibleDict` upon builtin `dict` class with above required functionality.\n",
        "\n",
        "Hint- `dict[key] => dict.__getitem__(key)`"
      ]
    },
    {
      "cell_type": "markdown",
      "metadata": {
        "id": "uajGeWegbfda"
      },
      "source": [
        "Ex.\n",
        "```\n",
        "fd = FlexibleDict()\n",
        "fd['a'] = 100\n",
        "print(fd['a']) # Like regular dict\n",
        "\n",
        "fd[5] = 500\n",
        "print(fd[5]) # Like regular dict\n",
        "\n",
        "fd[1] = 100\n",
        "print(fd['1']) # actual Key is int but still trying to access through str key.\n",
        "fd['1'] = 100\n",
        "print(fd[1])\n",
        "\n",
        "```\n",
        "`Output:`\n",
        "```\n",
        "100\n",
        "500\n",
        "100\n",
        "100\n",
        "\n",
        "```"
      ]
    },
    {
      "cell_type": "code",
      "execution_count": null,
      "metadata": {
        "id": "OHLbOtCxZ2nw"
      },
      "outputs": [],
      "source": []
    }
  ],
  "metadata": {
    "colab": {
      "collapsed_sections": [
        "BCleRtX43caS",
        "KBbGNTtQ47mJ",
        "ExIxsv4y-oEd",
        "OcQhJvXVALgp",
        "sEsGEqOHCSWG",
        "v1M5Yh9ZZO0z"
      ],
      "provenance": []
    },
    "kernelspec": {
      "display_name": "Python 3",
      "name": "python3"
    },
    "language_info": {
      "codemirror_mode": {
        "name": "ipython",
        "version": 3
      },
      "file_extension": ".py",
      "mimetype": "text/x-python",
      "name": "python",
      "nbconvert_exporter": "python",
      "pygments_lexer": "ipython3",
      "version": "3.12.8"
    }
  },
  "nbformat": 4,
  "nbformat_minor": 0
}
