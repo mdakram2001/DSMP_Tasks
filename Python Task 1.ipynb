{
  "cells": [
    {
      "cell_type": "markdown",
      "metadata": {
        "id": "A05OG15VqOPF"
      },
      "source": [
        "# Task : Session 1\n",
        "Solve these questions own your own and try to test yourself what you have learned in the session.\n",
        "\n",
        "Happy Learning!"
      ]
    },
    {
      "cell_type": "markdown",
      "metadata": {
        "id": "2doIXf8bqe9_"
      },
      "source": [
        "### Q1 :- Print the given strings as per stated format.\n",
        "\n",
        "**Given strings**:\n",
        "```\n",
        "\"Data\" \"Science\" \"Mentorship\" \"Program\"\n",
        "\"By\" \"CampusX\"\n",
        "```\n",
        "**Output**:\n",
        "```\n",
        "Data-Science-Mentorship-Program-started-By-CampusX\n",
        "```\n",
        "\n",
        "Concept- [Seperator and End]"
      ]
    },
    {
      "cell_type": "code",
      "execution_count": null,
      "metadata": {
        "id": "-em6d3KErDtp"
      },
      "outputs": [],
      "source": [
        "# Write your code here\n",
        "\n",
        "print(\"Data\" , \"Science\" , \"Mentorship\" , \"Program\" , \"By\" , \"CampusX\", sep=\"-\")"
      ]
    },
    {
      "cell_type": "markdown",
      "metadata": {
        "id": "1KUpN7ZTrC3_"
      },
      "source": [
        "### Q2:- Write a program that will convert celsius value to fahrenheit."
      ]
    },
    {
      "cell_type": "code",
      "execution_count": null,
      "metadata": {
        "id": "yxKYhYQiqWfj"
      },
      "outputs": [],
      "source": [
        "# Write your code here\n",
        "\n",
        "Celcius = float(input(\"Enter the Temparature(in Celcius):\"))\n",
        "Fehrenheit = (Celcius * 9/5) + 32\n",
        "print(\"The value of Fahrenheit for the given clecius is : \", Fehrenheit)"
      ]
    },
    {
      "cell_type": "markdown",
      "metadata": {
        "id": "RLrOBBJurLB2"
      },
      "source": [
        "### Q3:- Take 2 numbers as input from the user.Write a program to swap the numbers without using any special python syntax."
      ]
    },
    {
      "cell_type": "code",
      "execution_count": null,
      "metadata": {
        "id": "yPn7if0TrJ4F"
      },
      "outputs": [],
      "source": [
        "# Write your code here\n",
        "\n",
        "Num1  = int(input(\"Enter first number: \"))\n",
        "Num2  = int(input(\"Enter second number: \"))\n",
        "temp = Num1\n",
        "Num1 = Num2\n",
        "Num2 = temp\n",
        "print(f\"After Swapping : first number is = {Num1} &  second number is = {Num2}\")\n"
      ]
    },
    {
      "cell_type": "markdown",
      "metadata": {
        "id": "waLCP1bjr7ML"
      },
      "source": [
        "### Q4:- Write a program to find the euclidean distance between two coordinates.Take both the coordinates from the user as input."
      ]
    },
    {
      "cell_type": "code",
      "execution_count": null,
      "metadata": {
        "id": "Pl1Sv-xnrxnH"
      },
      "outputs": [],
      "source": [
        "# Write your code here\n",
        "\n",
        "import math\n",
        "Coordinates1 = input(\"Enter First Coordinates(Put ',' between them): \")\n",
        "Coordinates2 = input(\"Enter Second Coordinates(Put ',' between them): \")\n",
        "\n",
        "FirstCoordinates = Coordinates1.split(',')\n",
        "SecondCoordinates = Coordinates2.split(',')\n",
        "\n",
        "Result = math.sqrt(((int(SecondCoordinates[0]) - int(FirstCoordinates[0]))*(int(SecondCoordinates[0]) - int(FirstCoordinates[0]))) + ((int(SecondCoordinates[1]) - int(FirstCoordinates[1]))*(int(SecondCoordinates[1]) - int(FirstCoordinates[1]))))\n",
        "\n",
        "print(\"The Distance Between two given point is: \", Result)"
      ]
    },
    {
      "cell_type": "markdown",
      "metadata": {
        "id": "VLrhg-FRsHjR"
      },
      "source": [
        "### Q5:- Write a program to find the simple interest when the value of principle,rate of interest and time period is provided by the user.\n"
      ]
    },
    {
      "cell_type": "code",
      "execution_count": null,
      "metadata": {
        "id": "s40DlReZsTmY"
      },
      "outputs": [],
      "source": [
        "# Write your code here\n",
        "\n",
        "P = float(input(\"Enter the principal amount: \"))\n",
        "R = float(input(\"Enter the Rate of Interest (per year): \"))\n",
        "T = float(input(\"Enter the Time span (in years): \"))\n",
        "\n",
        "SI = (P*R*T)/100\n",
        "\n",
        "print(\"The Simple interest for the given amount is: \", SI)"
      ]
    },
    {
      "cell_type": "markdown",
      "metadata": {
        "id": "LMy0BTUktYKa"
      },
      "source": [
        "### Q6:- Write a program that will tell the number of dogs and chicken are there when the user will provide the value of total heads and legs.\n",
        "\n",
        "For example:\n",
        "Input:\n",
        "heads -> 4\n",
        "legs -> 12\n",
        "<br>\n",
        "Output:\n",
        "dogs -> 2\n",
        "chicken -> 2\n",
        "\n",
        "\n",
        "\n"
      ]
    },
    {
      "cell_type": "code",
      "execution_count": null,
      "metadata": {
        "id": "XSBvJoA4tXaG"
      },
      "outputs": [],
      "source": [
        "# *** Write your code here (This is not valid for the value 5,10) ***\n",
        "THeads = int(input(\"Enter the total number of heads: \"))\n",
        "TLegs = int(input(\"Enter the total number of legs: \"))\n",
        "\n",
        "Chicks = (4*THeads - TLegs)/2\n",
        "\n",
        "Dogs = THeads = Chicks\n",
        "\n",
        "print(f\"Total Number Chickens are {Chicks} & Dogs are {Dogs}\")\n",
        "\n"
      ]
    },
    {
      "cell_type": "markdown",
      "metadata": {
        "id": "gJ7C5kZYt4BP"
      },
      "source": [
        "### Q7:- Write a program to find the sum of squares of first n natural numbers where n will be provided by the user."
      ]
    },
    {
      "cell_type": "code",
      "execution_count": null,
      "metadata": {
        "id": "_tHsmEHzt2nX"
      },
      "outputs": [],
      "source": [
        "# Write your code here\n",
        "\n",
        "N = int(input(\"Enter the Desired Number: \"))\n",
        "Result = (N*(N+1)*(2*N + 1))/6\n",
        "print(f\"Sum of square of the first {N} natural number is: {Result}\")"
      ]
    },
    {
      "cell_type": "markdown",
      "metadata": {
        "id": "FHrMM7g-yG1h"
      },
      "source": [
        "### Q8:- Given the first 2 terms of an Arithmetic Series.Find the Nth term of the series. Assume all inputs are provided by the user."
      ]
    },
    {
      "cell_type": "code",
      "execution_count": null,
      "metadata": {
        "id": "go4_kmZmyVSx"
      },
      "outputs": [],
      "source": [
        "# Write your code here\n",
        "\n",
        "FTerm = int(input(\"Enter the value first term: \"))\n",
        "STerm = int(input(\"Enter the value second term: \"))\n",
        "NTerm = int(input(\"Which term you want to find: \"))\n",
        "\n",
        "Result = FTerm + (NTerm - 1)*(STerm - FTerm)\n",
        "\n",
        "print(f\"The value of the {NTerm} term will be: {Result}\")"
      ]
    },
    {
      "cell_type": "markdown",
      "metadata": {
        "id": "QgyRX_es1oum"
      },
      "source": [
        "### Q9:- Given 2 fractions, find the sum of those 2 fractions.Take the numerator and denominator values of the fractions from the user."
      ]
    },
    {
      "cell_type": "code",
      "execution_count": null,
      "metadata": {
        "id": "X05xqFS1yW16"
      },
      "outputs": [],
      "source": [
        "# Write your code here\n",
        "\n",
        "Num1 = float(input(\"Enter numerator of a fraction: 1 \"))\n",
        "Den1 = float(input(\"Enter denominator of that fraction: 1 \"))\n",
        "Num2 = float(input(\"Enter numerator of a fraction: 2\"))\n",
        "Den2 = float(input(\"Enter denominator of that fraction: 2\"))\n",
        "\n",
        "result = (Num1/Den1) + (Num2/Den2) \n",
        "\n",
        "print(f\"The sum of the given fraction {Num1}/{Den1} and {Num2}/{Den2} is {result}\")"
      ]
    },
    {
      "cell_type": "markdown",
      "metadata": {
        "id": "eaql38ln13u7"
      },
      "source": [
        "### Q10:- Given the height, width and breadth of a milk tank, you have to find out how many glasses of milk can be obtained? Assume all the inputs are provided by the user.\n",
        "\n",
        "\n",
        "\n",
        "Input:<br>\n",
        "Dimensions of the milk tank<br>\n",
        "H = 20cm, L = 20cm, B = 20cm\n",
        "<br><br>\n",
        "Dimensions of the glass<br>\n",
        "h = 3cm, r = 1cm"
      ]
    },
    {
      "cell_type": "code",
      "execution_count": null,
      "metadata": {
        "id": "FePZqno74eWv"
      },
      "outputs": [
        {
          "ename": "",
          "evalue": "",
          "output_type": "error",
          "traceback": [
            "\u001b[1;31mRunning cells with 'Python 3.11.9' requires the ipykernel package.\n",
            "\u001b[1;31mRun the following command to install 'ipykernel' into the Python environment. \n",
            "\u001b[1;31mCommand: 'c:/Users/HP/AppData/Local/Microsoft/WindowsApps/python3.11.exe -m pip install ipykernel -U --user --force-reinstall'"
          ]
        }
      ],
      "source": [
        "# Write your code here\n",
        "\n",
        "import math\n",
        "\n",
        "MHeight = float(input(\"Enter the height of the Milk Tank: \"))\n",
        "MWidth = float(input(\"Enter the width of the Milk Tank: \"))\n",
        "MBreadth = float(input(\"Enter the breadth of the Milk Tank: \"))\n",
        "GHeight = float(input(\"Enter the height of the Glass: \"))\n",
        "GRadius = float(input(\"Enter the radius of the Glass: \"))\n",
        "\n",
        "\n",
        "MVolume = MHeight*MWidth*MBreadth\n",
        "GVolume = math.pi*(GRadius**2)*GHeight\n",
        "\n",
        "print(f\"The number of glasses of milk can be obtained are {MVolume//GVolume} glasses\")"
      ]
    }
  ],
  "metadata": {
    "colab": {
      "provenance": []
    },
    "kernelspec": {
      "display_name": "Python 3",
      "name": "python3"
    },
    "language_info": {
      "name": "python",
      "version": "3.12.8"
    }
  },
  "nbformat": 4,
  "nbformat_minor": 0
}
