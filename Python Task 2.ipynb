{
  "cells": [
    {
      "cell_type": "markdown",
      "metadata": {
        "id": "w6RlOAXV2PWh"
      },
      "source": [
        "### `Problem 1`: Write a program that will give you in hand monthly salary after deduction on CTC - HRA(10%), DA(5%), PF(3%) and taxes deduction as below:\n",
        "\n",
        "> Salary(Lakhs) : Tax(%)\n",
        "\n",
        "*   Below 5 : 0%\n",
        "*   5-10 : 10%\n",
        "*   10-20 : 20%\n",
        "*   aboove 20 : 30%\n",
        "\n"
      ]
    },
    {
      "cell_type": "code",
      "execution_count": null,
      "metadata": {
        "id": "7tMHvKYO2etI"
      },
      "outputs": [],
      "source": [
        "# Write code here\n",
        "\n",
        "Salary = float(input(\"Enter your monthly salary (CTC): \"))\n",
        "\n",
        "HRA = Salary/10\n",
        "DA = Salary/5\n",
        "PF = Salary/3\n",
        "\n",
        "if Salary>=2000000:\n",
        "    Tax = Salary/30\n",
        "elif Salary>=1000000 and Salary<=2000000:\n",
        "    Tax = Salary/20\n",
        "elif Salary>=500000 and Salary<=1000000:\n",
        "    Tax = Salary/10\n",
        "else:\n",
        "    Tax = 0\n",
        "\n",
        "InHand = Salary -(HRA+DA+PF+Tax)\n",
        "print(f\"Your In hand monthly Salary will be: {InHand}/-\")\n",
        "\n"
      ]
    },
    {
      "cell_type": "markdown",
      "metadata": {
        "id": "tYzCGqwl2hfN"
      },
      "source": [
        "### `Problem 2`: Write a program that take a user input of three angles and will find out whether it can form a triangle or not."
      ]
    },
    {
      "cell_type": "code",
      "execution_count": null,
      "metadata": {
        "id": "FYEqln-I2kxV"
      },
      "outputs": [],
      "source": [
        "# Write code here\n",
        "\n",
        "Angles = input(\"Enter three angles: (use ',' ): \")\n",
        "NewAngles = Angles.split(',')\n",
        "\n",
        "if (NewAngles[0] + NewAngles[1] + NewAngles[2]) == 180:\n",
        "    print(\"Given angles are suitable for forming a tringale.\")\n",
        "else:\n",
        "    print(\"No triangle will be formed!\")"
      ]
    },
    {
      "cell_type": "markdown",
      "metadata": {
        "id": "5vEpPh8C2pE4"
      },
      "source": [
        "### `Problem 3`: Write a program that will take user input of cost price and selling price and determines whether its a loss or a profit."
      ]
    },
    {
      "cell_type": "code",
      "execution_count": null,
      "metadata": {
        "id": "jDwBXlkO2sfl"
      },
      "outputs": [],
      "source": [
        "# Write code here\n",
        "\n",
        "Cost = int(input(\"Cost price of the product: \"))\n",
        "Sell = int(input(\"Selling price of the product: \"))\n",
        "\n",
        "if (Sell - Cost)> 0:\n",
        "    print(f\"You have earned profit of {Sell - Cost}/- Rs\") \n",
        "elif (Sell - Cost)< 0:\n",
        "    print(f\"You took loss of {-(Sell - Cost)}/- Rs\") \n",
        "else:\n",
        "    print(\"You neither earned nor losses!\")\n"
      ]
    },
    {
      "cell_type": "markdown",
      "metadata": {
        "id": "J_FG_cJW2ugT"
      },
      "source": [
        "### `Problem 4`: Write a menu-driven program -\n",
        "1. cm to ft\n",
        "2. km to miles\n",
        "3. USD to INR\n",
        "4. exit"
      ]
    },
    {
      "cell_type": "code",
      "execution_count": null,
      "metadata": {
        "id": "yBHhaCGQ2zpD"
      },
      "outputs": [],
      "source": [
        "# Write code here\n",
        "\n",
        "Menu = True\n",
        "\n",
        "while Menu:\n",
        "\n",
        "    Option = int(input(\"\"\"Select the number to use: \n",
        "        Press:\n",
        "        1 --> To convert cm into foot.\n",
        "        2 --> To convert km into miles.\n",
        "        3 --> To convert USD to INR.\n",
        "        4 --> To exit the main menu. \\n\"\"\"))\n",
        "\n",
        "    if Option == 1:\n",
        "        cm = float(input(\"Enter the value(in cm): \"))\n",
        "        feet = cm * 0.0328084\n",
        "        print(f\"The value of feet for the given cm is: {feet} ft\")\n",
        "    elif Option == 2:\n",
        "        km = float(input(\"Enter the value(in km): \"))\n",
        "        miles = km * 0.621371\n",
        "        print(f\"The value of miles for the given km is: {miles} miles\")\n",
        "    elif Option == 3:\n",
        "        USD = float(input(\"Enter the price(in USD): \"))\n",
        "        INR = USD * 85.71\n",
        "        print(f\"The value of INR for the given USD is: {INR}/- Rs\")\n",
        "    elif Option == 4:\n",
        "        Menu = False\n",
        "        print(f\"Thank you for using our service! See you again...\")\n"
      ]
    },
    {
      "cell_type": "markdown",
      "metadata": {
        "id": "LJJ30_Yw27ZU"
      },
      "source": [
        "### `Problem 5` - Exercise 12: Display Fibonacci series up to 10 terms.\n",
        "\n",
        "*Note: The Fibonacci Sequence is a series of numbers. The next number is found by adding up the two numbers before it. The first two numbers are 0 and 1. For example, 0, 1, 1, 2, 3, 5, 8, 13, 21. The next number in this series above is 13+21 = 34*"
      ]
    },
    {
      "cell_type": "code",
      "execution_count": null,
      "metadata": {
        "id": "ae_1rpe52-5R"
      },
      "outputs": [],
      "source": [
        "# Write code here\n",
        "\n",
        "Terms = int(input(\"Enter the Number of terms you want: \"))\n",
        "Num1 = 0\n",
        "Num2 = 1\n",
        "print(Num1,Num2, sep=\"\\n\")\n",
        "for i in range(2,Terms):\n",
        "    Num3 = Num1 + Num2\n",
        "    Num1 = Num2\n",
        "    Num2 = Num3\n",
        "    print(Num3)"
      ]
    },
    {
      "cell_type": "markdown",
      "metadata": {
        "id": "pk_I_S4m3PT5"
      },
      "source": [
        "### `Problem 6` - Find the factorial of a given number.\n",
        "\n",
        "Write a program to use the loop to find the factorial of a given number.\n",
        "\n",
        "The factorial (symbol: `!`) means to multiply all whole numbers from the chosen number down to 1.\n",
        "\n",
        "For example: calculate the factorial of 5\n",
        "\n",
        "```bash\n",
        "5! = 5 × 4 × 3 × 2 × 1 = 120\n",
        "```\n",
        "\n",
        "Output:\n",
        "\n",
        "```bash\n",
        "120\n",
        "```"
      ]
    },
    {
      "cell_type": "code",
      "execution_count": null,
      "metadata": {
        "id": "lzXxHegx3Rkc"
      },
      "outputs": [],
      "source": [
        "# Write code here\n",
        "\n",
        "Number = int(input(\"Enter the Number to find factorial: \"))\n",
        "Result = Number\n",
        "while Number > 1:\n",
        "    Result = Result*(Number-1)\n",
        "    Number -=1\n",
        "print(Result)\n"
      ]
    },
    {
      "cell_type": "markdown",
      "metadata": {
        "id": "-17IOi-g3UpU"
      },
      "source": [
        "### `Problem 7` - Reverse a given integer number.\n",
        "\n",
        "Example:\n",
        "\n",
        "`Input:`\n",
        "\n",
        "```bash\n",
        "76542\n",
        "```\n",
        "\n",
        "`Output:`\n",
        "\n",
        "```bash\n",
        "24567\n",
        "```"
      ]
    },
    {
      "cell_type": "code",
      "execution_count": null,
      "metadata": {
        "id": "wJwLpKCr3aVA"
      },
      "outputs": [],
      "source": [
        "# Write code here\n",
        "\n",
        "Integer = int(input(\"Enter an integer you want to reverse: \"))\n",
        "NewInt = \"\"\n",
        "\n",
        "while Integer > 0:\n",
        "    Num = Integer % 10\n",
        "    Integer = Integer//10\n",
        "    NewInt += str(Num)\n",
        "\n",
        "print(NewInt)\n",
        "    \n",
        "\n"
      ]
    },
    {
      "cell_type": "markdown",
      "metadata": {
        "id": "-t8PJQaY3sHf"
      },
      "source": [
        "### `Problem 8`: Take a user input as integer N. Find out the sum from 1 to N. If any number if divisible by 5, then skip that number. And if the sum is greater than 300, don't need to calculate the sum further more. Print the final result. And don't use for loop to solve this problem.\n",
        "\n",
        "**Example 1:**\n",
        "\n",
        "`Input:`\n",
        "\n",
        "```bash\n",
        "30\n",
        "```\n",
        "\n",
        "`Output:`\n",
        "\n",
        "```bash\n",
        "276\n",
        "```"
      ]
    },
    {
      "cell_type": "code",
      "execution_count": null,
      "metadata": {
        "id": "GZB6mGMP3ujT"
      },
      "outputs": [],
      "source": [
        "# Write code here\n",
        "Integer = int(input(\"Enter an integer you want to calculate: \"))\n",
        "\n",
        "def claculateSum(I, Sum, Integer):\n",
        "    if Integer >= 300:\n",
        "        Sum = Integer\n",
        "        return Sum\n",
        "        \n",
        "    elif Integer <300:\n",
        "        if I % 5 == 0:\n",
        "            I+=1\n",
        "            claculateSum(I, Sum, Integer)\n",
        "\n",
        "        elif I % 5 != 0 and Sum <= 300 and I <= Integer:\n",
        "            Sum += I\n",
        "            if Sum >=300:\n",
        "                Sum = Sum - I\n",
        "                print(Sum)\n",
        "                return Sum\n",
        "            else:\n",
        "                I+=1\n",
        "                claculateSum(I, Sum, Integer)\n",
        "        \n",
        "claculateSum(1, 0, Integer)"
      ]
    },
    {
      "cell_type": "markdown",
      "metadata": {
        "id": "Q7ggImeA3xm4"
      },
      "source": [
        "### `Problem 9`: Write a program that keeps on accepting a number from the user until the user enters Zero. Display the sum and average of all the numbers."
      ]
    },
    {
      "cell_type": "code",
      "execution_count": null,
      "metadata": {
        "id": "t_YDSZDe4Kdo"
      },
      "outputs": [],
      "source": [
        "# Write code here\n",
        "\n",
        "Sum = 0\n",
        "Count = 0\n",
        "Average = 0\n",
        "\n",
        "while True:\n",
        "    Number = int(input(\"Enter any Number: \"))\n",
        "    if Number == 0:\n",
        "        break\n",
        "    else:\n",
        "        Count += 1\n",
        "        Sum+=Number\n",
        "        Average = Sum/Count\n",
        "\n",
        "print(f\"The Sum and the Average of Numbers are {Sum} , {Average} respectively\")\n",
        "\n"
      ]
    },
    {
      "cell_type": "markdown",
      "metadata": {
        "id": "6EhvEMvm4R7s"
      },
      "source": [
        "###`Problem 9`: Write a program which will find all such numbers which are divisible by 7 but are not a multiple of 5, between 2000 and 3200 (both included). The numbers obtained should be printed in a comma-separated sequence on a single line."
      ]
    },
    {
      "cell_type": "code",
      "execution_count": null,
      "metadata": {
        "id": "d6RgP1B34T6c"
      },
      "outputs": [],
      "source": [
        "# Write code here\n",
        "\n",
        "for i in range(2000, 3201):\n",
        "    if i % 7 == 0 and i % 5 != 0:\n",
        "        print(i, end=\" \")\n",
        "    else:\n",
        "        continue"
      ]
    },
    {
      "cell_type": "markdown",
      "metadata": {
        "id": "tYvmRR-G4Vp4"
      },
      "source": [
        "###`Problem 10`: Write a program, which will find all such numbers between 1000 and 3000 (both included) such that each digit of the number is an even number. The numbers obtained should be printed in a space-separated sequence on a single line.\n",
        "\n"
      ]
    },
    {
      "cell_type": "code",
      "execution_count": null,
      "metadata": {
        "id": "k6Gs1kIf4k19"
      },
      "outputs": [],
      "source": [
        "# Write code here\n",
        "\n",
        "for i in range(1000, 3001):\n",
        "    j=0\n",
        "    Num = i\n",
        "    show = True\n",
        "\n",
        "    while j<=3:\n",
        "       dig = Num%10\n",
        "       if dig % 2 != 0:\n",
        "        show = False\n",
        "        break\n",
        "       else:\n",
        "        Num = Num//10\n",
        "        j+=1\n",
        "          \n",
        "    if show == False:\n",
        "       continue\n",
        "    else:\n",
        "       print(i, end=\" \")"
      ]
    },
    {
      "cell_type": "markdown",
      "metadata": {
        "id": "GV18IINT4mf5"
      },
      "source": [
        "###`Problem 11`: A robot moves in a plane starting from the original point (0,0). The robot can move toward UP, DOWN, LEFT and RIGHT with a given steps.\n",
        "The trace of robot movement is shown as the following:\n",
        "```\n",
        "UP 5\n",
        "DOWN 3\n",
        "LEFT 3\n",
        "RIGHT 2\n",
        "!\n",
        "```\n",
        "> The numbers after the direction are steps.\n",
        "\n",
        "> `!` means robot stop there.\n",
        "\n",
        "**Please write a program to compute the distance from current position after a sequence of movement and original point.**\n",
        "\n",
        "*If the distance is a float, then just print the nearest integer.*\n",
        "\n",
        "Example:\n",
        "\n",
        "`Input`:\n",
        "```\n",
        "UP 5\n",
        "DOWN 3\n",
        "LEFT 3\n",
        "RIGHT 2\n",
        "!\n",
        "```\n",
        "`Output`:\n",
        "```\n",
        "2\n",
        "```"
      ]
    },
    {
      "cell_type": "code",
      "execution_count": null,
      "metadata": {
        "id": "6UNMC2aR4w5x"
      },
      "outputs": [],
      "source": [
        "# Write code here\n",
        "import math\n",
        "\n",
        "print(\"Enter the movement of the robot from the original point (0,0) :\")\n",
        "UP = int(input(\"Upward movement: \"))\n",
        "DOWN = int(input(\"Downward movement: \"))\n",
        "LEFT = int(input(\"Leftside movement: \"))\n",
        "RIGHT = int(input(\"Rightside movement: \"))\n",
        "\n",
        "x1 = 0\n",
        "y1 = 0\n",
        "x2 = RIGHT - LEFT\n",
        "y2 = UP - DOWN\n",
        "\n",
        "result = math.sqrt((x2-x1)**2 + (y2-y1)**2)\n",
        "print(int(result))"
      ]
    },
    {
      "cell_type": "markdown",
      "metadata": {
        "id": "3fsAIAhK5GYY"
      },
      "source": [
        "###`Problem 12`:Write a program to print whether a given number is a prime number or not"
      ]
    },
    {
      "cell_type": "code",
      "execution_count": null,
      "metadata": {
        "id": "j6y91lxy5LZs"
      },
      "outputs": [],
      "source": [
        "# Write code here\n",
        "while True:\n",
        "    Number = int(input(\"Enter any Number: \"))\n",
        "    isPrime = True\n",
        "\n",
        "    for i in range(2, Number-1):\n",
        "        if Number == 2:\n",
        "            isPrime == True\n",
        "        elif Number % i == 0:\n",
        "            isPrime = False\n",
        "            break\n",
        "        else:\n",
        "            isPrime = True\n",
        "\n",
        "    if isPrime == True and Number != 1:\n",
        "        print(f\"This given Number is Prime\")\n",
        "    else:\n",
        "        print(\"The given Number is Not Prime.\")"
      ]
    },
    {
      "cell_type": "markdown",
      "metadata": {
        "id": "asAbmbK-5NHv"
      },
      "source": [
        "###`Problem 13`:Print all the Armstrong numbers in a given range.\n",
        "Range will be provided by the user<br>\n",
        "Armstrong number is a number that is equal to the sum of cubes of its digits. For example 0, 1, 153, 370, 371 and 407 are the Armstrong numbers."
      ]
    },
    {
      "cell_type": "code",
      "execution_count": null,
      "metadata": {
        "id": "PZuI67pm5jCT"
      },
      "outputs": [],
      "source": [
        "# Write code here\n",
        "\n",
        "Num1 = int(input(\"Enter the number from which you want to check: \"))\n",
        "Num2 = int(input(\"Enter the number until which you want to check: \"))\n",
        "\n",
        "for i in range(Num1, Num2+1):\n",
        "   n = len(str(i))\n",
        "   Sum = 0\n",
        "   Number = i\n",
        "   while n > 0:\n",
        "      Digit = Number % 10\n",
        "      Sum += (Digit**(len(str(i))))\n",
        "      Number = Number//10\n",
        "      n-=1\n",
        "   if Sum == i:\n",
        "      print(f\"Number is {i}\")\n",
        "   else:\n",
        "      continue"
      ]
    },
    {
      "cell_type": "markdown",
      "metadata": {
        "id": "ClCQZMqT7gK0"
      },
      "source": [
        "###`Problem 14`:Calculate the angle between the hour hand and minute hand.\n",
        "\n",
        "Note: There can be two angles between hands; we need to print a minimum of two. Also, we need to print the floor of the final result angle. For example, if the final angle is 10.61, we need to print 10.\n",
        "\n",
        "Input:<br>\n",
        "H = 9 , M = 0<br>\n",
        "Output:<br>\n",
        "90<br>\n",
        "Explanation:<br>\n",
        "The minimum angle between hour and minute\n",
        "hand when the time is 9 is 90 degress."
      ]
    },
    {
      "cell_type": "code",
      "execution_count": null,
      "metadata": {
        "id": "tNBTCZML7jy_"
      },
      "outputs": [],
      "source": [
        "# Write code here **(Need More Review)\n",
        "import math\n",
        "\n",
        "H = int(input(\"Enter the Hour: \"))\n",
        "M = int(input(\"Enter the Minute: \"))\n",
        "\n",
        "Angle = (30 * H) - (5.5 * M)\n",
        "NewAngle = 360 - Angle\n",
        "\n",
        "print(f\"The minimum angle between hour and minute hand when the time is {H}:{M} is {math.floor(NewAngle if Angle > NewAngle else Angle)}\")\n"
      ]
    },
    {
      "cell_type": "markdown",
      "metadata": {
        "id": "GwacF9Co72Qc"
      },
      "source": [
        "###`Problem 15`:Given two rectangles, find if the given two rectangles overlap or not. A rectangle is denoted by providing the x and y coordinates of two points: the left top corner and the right bottom corner of the rectangle. Two rectangles sharing a side are considered overlapping. (L1 and R1 are the extreme points of the first rectangle and L2 and R2 are the extreme points of the second rectangle).\n",
        "\n",
        "Note: It may be assumed that the rectangles are parallel to the coordinate axis.\n",
        "\n",
        "<img src='https://www.geeksforgeeks.org/wp-content/uploads/rectanglesOverlap.png' width='300' height='200'>"
      ]
    },
    {
      "cell_type": "code",
      "execution_count": null,
      "metadata": {
        "id": "6rrw_lpH78Rs"
      },
      "outputs": [],
      "source": [
        "# Write code here\n",
        "\n",
        "\n"
      ]
    }
  ],
  "metadata": {
    "colab": {
      "provenance": []
    },
    "kernelspec": {
      "display_name": "Python 3",
      "name": "python3"
    },
    "language_info": {
      "name": "python"
    }
  },
  "nbformat": 4,
  "nbformat_minor": 0
}
