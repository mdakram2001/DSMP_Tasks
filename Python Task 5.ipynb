{
  "cells": [
    {
      "cell_type": "markdown",
      "metadata": {
        "id": "limD5IAfl-tz"
      },
      "source": [
        "# Tuple\n"
      ]
    },
    {
      "cell_type": "markdown",
      "metadata": {
        "id": "nSTn3CjbmB7q"
      },
      "source": [
        "### `Q1:` Join Tuples if similar initial element\n",
        "While working with Python tuples, we can have a problem in which we need to perform concatenation of records from the similarity of initial element. This problem can have applications in data domains such as Data Science.\n",
        "\n",
        "For eg.\n",
        "```\n",
        "Input  : test_list = [(5, 6), (5, 7), (5, 8), (6, 10), (7, 13)]\n",
        "Output : [(5, 6, 7, 8), (6, 10), (7, 13)]\n",
        "```"
      ]
    },
    {
      "cell_type": "code",
      "execution_count": 8,
      "metadata": {
        "id": "hwVeEvH9rJzU"
      },
      "outputs": [
        {
          "name": "stdout",
          "output_type": "stream",
          "text": [
            "[(7, 20), (6, 10), (10, 12), (7, 9), (7, 11), (9, 8), (5, 6, 7, 8, 10), (7, 9, 11, 20)]\n"
          ]
        }
      ],
      "source": [
        "# write your code here\n",
        "\n",
        "test_list = [(5, 6), (5, 7), (7, 20), (5, 8), (6, 10), (10, 12), (7, 9), (7,11), (5,10), (9, 8)]\n",
        "\n",
        "main_list = []\n",
        "\n",
        "for i in test_list:\n",
        "    s1 = set()\n",
        "    for j in test_list:\n",
        "        if test_list.index(i) == test_list.index(j):\n",
        "            continue\n",
        "        else:\n",
        "            if i[0] == j[0]:\n",
        "                s1.update([i[0], i[1], j[0], j[1]])\n",
        "            else:\n",
        "                if i in main_list or j in main_list:\n",
        "                    continue\n",
        "                else:\n",
        "                    main_list.append(j)\n",
        "    if tuple(sorted(s1)) in main_list:\n",
        "        continue\n",
        "    elif s1 == set():\n",
        "        continue\n",
        "    else:\n",
        "        main_list.append(tuple(sorted(s1)))\n",
        "\n",
        "\n",
        "print(main_list)\n",
        "\n",
        "\n"
      ]
    },
    {
      "cell_type": "markdown",
      "metadata": {
        "id": "ujQpZOFFmeha"
      },
      "source": [
        "### `Q2:` Multiply Adjacent elements (both side) and take sum of right and lest side multiplication result.\n",
        "\n",
        "\n",
        "For eg.\n",
        "```\n",
        "The original tuple : (1, 5, 7, 8, 10)\n",
        "Resultant tuple after multiplication :\n",
        "\n",
        "(1*5, 1*5+5*7, 7*5 + 7*8, 8*7 + 8*10, 10*8) -> (5, 40, 91, 136, 80)\n",
        "\n",
        "output-(5, 40, 91, 136, 80)\n",
        "```"
      ]
    },
    {
      "cell_type": "code",
      "execution_count": 10,
      "metadata": {
        "id": "N9lveEsArNVc"
      },
      "outputs": [
        {
          "name": "stdout",
          "output_type": "stream",
          "text": [
            "(5, 40, 91, 136, 80)\n"
          ]
        }
      ],
      "source": [
        "# write your code here\n",
        "\n",
        "myTup = (1, 5, 7, 8, 10)\n",
        "myList = []\n",
        "\n",
        "for i in range(0, len(myTup)):\n",
        "    if i == 0:\n",
        "        myList.append(myTup[i]*myTup[i+1])\n",
        "    elif i == (len(myTup) - 1):\n",
        "        myList.append(myTup[i-1]*myTup[i])\n",
        "    else:\n",
        "        myList.append((myTup[i-1]*myTup[i]) + (myTup[i]*myTup[i+1]))\n",
        "\n",
        "print(tuple(myList,))"
      ]
    },
    {
      "cell_type": "markdown",
      "metadata": {
        "id": "x0psnUiu2ZVp"
      },
      "source": [
        "### `Q3`: Check is tuples are same or not?\n",
        "Two tuples would be same if both tuples have same element at same index\n",
        "```\n",
        "t1 = (1,2,3,0)\n",
        "t2 = (0,1,2,3)\n",
        "\n",
        "t1 and t2 are not same\n",
        "```"
      ]
    },
    {
      "cell_type": "code",
      "execution_count": 15,
      "metadata": {
        "id": "JMVw9EhSrPEc"
      },
      "outputs": [
        {
          "name": "stdout",
          "output_type": "stream",
          "text": [
            "t1 and t2 are same...\n"
          ]
        }
      ],
      "source": [
        "# write your code here\n",
        "\n",
        "t1 = (1,2,3,0)\n",
        "t2 = (1,2,3,0)\n",
        " \n",
        "if t1 == t2:\n",
        "    print(\"t1 and t2 are same...\")\n",
        "else:\n",
        "    print(\"t1 and t2 are not same...\")"
      ]
    },
    {
      "cell_type": "markdown",
      "metadata": {
        "id": "aZ4rObHK4fCN"
      },
      "source": [
        "### `Q4`: Count no of tuples, list and set from a list\n",
        "```\n",
        "list1 = [{'hi', 'bye'},{'Geeks', 'forGeeks'},('a', 'b'),['hi', 'bye'],['a', 'b']]\n",
        "\n",
        "```\n",
        "`Output:`\n",
        "\n",
        "```\n",
        "List-2\n",
        "Set-2\n",
        "Tuples-1\n",
        "```"
      ]
    },
    {
      "cell_type": "code",
      "execution_count": 4,
      "metadata": {
        "id": "g_Bnuczk69tG"
      },
      "outputs": [
        {
          "name": "stdout",
          "output_type": "stream",
          "text": [
            "List - 2\n",
            "Set - 2\n",
            "Tuple - 1\n"
          ]
        }
      ],
      "source": [
        "# write your code here\n",
        "\n",
        "list1 = [{'hi', 'bye'},{'Geeks', 'forGeeks'},('a', 'b'),['hi', 'bye'],['a', 'b']]\n",
        "\n",
        "l = 0\n",
        "s = 0\n",
        "t = 0\n",
        "\n",
        "for i in list1:\n",
        "    if type(i) == list:\n",
        "        l+=1\n",
        "    elif type(i) == set:\n",
        "        s+=1\n",
        "    else:\n",
        "        type(i) == tuple\n",
        "        t+=1\n",
        "\n",
        "print(f\"List - {l}\\nSet - {s}\\nTuple - {t}\")"
      ]
    },
    {
      "cell_type": "markdown",
      "metadata": {
        "id": "jInFNuit8hf1"
      },
      "source": [
        "### `Q5`: Shortlist Students for a Job role\n",
        "Ask user to input students record and store in tuples for each record. Then Ask user to input three things he wants in the candidate- Primary Skill, Higher Education, Year of Graduation.\n",
        "\n",
        "Show every students record in form of tuples if matches all required criteria.\n",
        "\n",
        "It is assumed that there will be only one primry skill.\n",
        "\n",
        "If no such candidate found, print `No such candidate`\n",
        "\n",
        "`Input:`\n",
        "```\n",
        "Enter No of records- 2\n",
        "Enter Details of student-1\n",
        "Enter Student name- Manohar\n",
        "Enter Higher Education- B.Tech\n",
        "Enter Primary Skill- Python\n",
        "Enter Year of Graduation- 2022\n",
        "Enter Details of student-2\n",
        "Enter Student name- Ponian\n",
        "Enter Higher Education- B.Sc.\n",
        "Enter Primary Skill- C++\n",
        "Enter Year of Graduation- 2020\n",
        "\n",
        "Enter Job Role Requirement\n",
        "Enter Skill- Python\n",
        "Enter Higher Education- B.Tech\n",
        "Enter Year of Graduation- 2022\n",
        "```\n",
        "\n",
        "`Output`\n",
        "```\n",
        "('Manohar', 'B.tech', 'Python', '2022')\n",
        "```\n"
      ]
    },
    {
      "cell_type": "code",
      "execution_count": null,
      "metadata": {
        "id": "erh9QZaerSHk"
      },
      "outputs": [
        {
          "name": "stdout",
          "output_type": "stream",
          "text": [
            "Enter Details of students- \n",
            "No such Candidates.\n"
          ]
        }
      ],
      "source": [
        "# write your code here\n",
        "\n",
        "Records = int(input(\"Enter No of records- \"))\n",
        "print(\"Enter Details of students- \")\n",
        "\n",
        "student_list = []\n",
        "\n",
        "for i in range(0, Records):\n",
        "    Name = input(\"Enter Student name- \")\n",
        "    HighEd = input(\"Enter Higher Education- \")\n",
        "    Pskill= input(\"Enter Primary Skill- \")\n",
        "    GradYr= int(input(\"Enter Year of Graduation- \"))\n",
        "\n",
        "    student_list.append((Name, HighEd, Pskill, GradYr),)\n",
        "\n",
        "Role = input(\"Enter Job Role Requirement\")\n",
        "Skill = input(\"Enter Skill- \")\n",
        "HighEdu = input(\"Enter Higher Education- \")\n",
        "GradYear = int(input(\"Enter Year of Graduation- \"))\n",
        "\n",
        "req_candidates = []\n",
        "\n",
        "for i in student_list:\n",
        "    if Skill in i and HighEdu in i  and GradYear in i:\n",
        "        req_candidates.append(i)\n",
        "    else:\n",
        "        continue\n",
        "\n",
        "if len(req_candidates) == 0:\n",
        "    print(\"No such Candidates.\")\n",
        "else:\n",
        "    for i in range(0, len(req_candidates)):\n",
        "        print(f\"Candidate {i+1} = {req_candidates[i]}\" )\n"
      ]
    },
    {
      "cell_type": "markdown",
      "metadata": {
        "id": "l4hLvwD2BeIN"
      },
      "source": [
        "# Set"
      ]
    },
    {
      "cell_type": "markdown",
      "metadata": {
        "id": "zCX0Sk2IBfu8"
      },
      "source": [
        "###`Q1:` Write a program to find set of common elements in three lists using sets.\n",
        "```\n",
        "Input : ar1 = [1, 5, 10, 20, 40, 80]\n",
        "        ar2 = [6, 7, 20, 80, 100]\n",
        "        ar3 = [3, 4, 15, 20, 30, 70, 80, 120]\n",
        "\n",
        "Output : [80, 20]\n",
        "```"
      ]
    },
    {
      "cell_type": "code",
      "execution_count": 7,
      "metadata": {
        "id": "rqATYpBUrUQU"
      },
      "outputs": [
        {
          "name": "stdout",
          "output_type": "stream",
          "text": [
            "[20, 80, 120]\n"
          ]
        }
      ],
      "source": [
        "# write your code here\n",
        "\n",
        "ar1 = [1, 5, 10, 20, 40, 80, 120]\n",
        "ar2 = [6, 7, 20, 80, 100, 120]\n",
        "ar3 = [3, 4, 15, 20, 30, 70, 80, 120]\n",
        "\n",
        "num = []\n",
        "\n",
        "for i in ar1:\n",
        "    for j in ar2:\n",
        "        if i == j:\n",
        "            for k in ar3:\n",
        "                if j == k:\n",
        "                    num.append(k)\n",
        "        else:\n",
        "            continue\n",
        "                \n",
        "print(num)"
      ]
    },
    {
      "cell_type": "markdown",
      "metadata": {
        "id": "0gOVS-0yCYrK"
      },
      "source": [
        "###`Q2:` Write a program to count unique number of vowels using sets in a given string. Lowercase and upercase vowels will be taken as different.\n",
        "\n",
        "`Input:`\n",
        "```\n",
        "Str1 = \"hands-on data science mentorship progrAm with live classes at affordable fee only on CampusX\"\n",
        "```\n",
        "`Output:`\n",
        "```\n",
        "No of unique vowels-6\n",
        "```"
      ]
    },
    {
      "cell_type": "code",
      "execution_count": 8,
      "metadata": {
        "id": "0vAlEAOzDihm"
      },
      "outputs": [
        {
          "name": "stdout",
          "output_type": "stream",
          "text": [
            "No. of unique vowels - 6\n"
          ]
        }
      ],
      "source": [
        "# write your code here\n",
        "\n",
        "vowCap = ['A', 'E', 'I', 'O', 'U']\n",
        "vowSm = ['a','e','i','o','u']\n",
        "Str1 = \"hands-on data science mentorship progrAm with live classes at affordable fee only on CampusX\"\n",
        "Vowels = []\n",
        "count = 0\n",
        "\n",
        "for i in Str1:\n",
        "    if i not in Vowels and (i in vowCap or i in vowSm):\n",
        "        count+=1\n",
        "        Vowels.append(i)\n",
        "    else:\n",
        "        continue\n",
        "\n",
        "print(f\"No. of unique vowels - {count}\")"
      ]
    },
    {
      "cell_type": "markdown",
      "metadata": {
        "id": "fqLZxiarEne5"
      },
      "source": [
        "### `Q3:` Write a program to Check if a given string is binary string of or not.\n",
        "\n",
        "A string is said to be binary if it's consists of only two unique characters.\n",
        "\n",
        "Take string input from user.\n",
        "\n",
        "```\n",
        "Input: str = \"01010101010\"\n",
        "Output: Yes\n",
        "\n",
        "Input: str = \"1222211\"\n",
        "Output: Yes\n",
        "\n",
        "Input: str = \"Campusx\"\n",
        "Output: No\n",
        "```"
      ]
    },
    {
      "cell_type": "code",
      "execution_count": 17,
      "metadata": {
        "id": "5M5v8LoYrXkE"
      },
      "outputs": [
        {
          "name": "stdout",
          "output_type": "stream",
          "text": [
            "Binary..\n"
          ]
        }
      ],
      "source": [
        "# write your code here\n",
        "\n",
        "str1 = \"ABBA\"\n",
        "\n",
        "mystr = []\n",
        "\n",
        "binary = True\n",
        "\n",
        "for i  in str1:\n",
        "    if i in mystr:\n",
        "        continue\n",
        "    else:\n",
        "        mystr.append(i)\n",
        "    if len(mystr) <= 2:\n",
        "        binary = True\n",
        "    else:\n",
        "        binary = False\n",
        "        break\n",
        "\n",
        "if binary:\n",
        "    print(\"Binary..\")\n",
        "else:\n",
        "    print(\"Not Binary..\")"
      ]
    },
    {
      "cell_type": "markdown",
      "metadata": {
        "id": "xXS8wYH1mDqx"
      },
      "source": [
        "### `Q4`: find union of n arrays.\n",
        "\n",
        "**Example 1:**\n",
        "\n",
        "Input:\n",
        "```bash\n",
        "[[1, 2, 2, 4, 3, 6],\n",
        " [5, 1, 3, 4],\n",
        " [9, 5, 7, 1],\n",
        " [2, 4, 1, 3]]\n",
        "```\n",
        "\n",
        "Output:\n",
        "\n",
        "```bash\n",
        "[1, 2, 3, 4, 5, 6, 7, 9]\n",
        "```"
      ]
    },
    {
      "cell_type": "code",
      "execution_count": 20,
      "metadata": {},
      "outputs": [
        {
          "name": "stdout",
          "output_type": "stream",
          "text": [
            "['1', '2', '3', '4', '5', '6', '7', '9']\n"
          ]
        }
      ],
      "source": [
        "list1 = []\n",
        "while True:\n",
        "    userInput = list(input(\"Enter Numbers ('STOP' to break): \"))\n",
        "    if userInput == ['S', 'T', 'O', 'P']:\n",
        "        break\n",
        "    else:\n",
        "        list1.append(userInput)\n",
        "\n",
        "newList = set()\n",
        "\n",
        "for i in list1:\n",
        "    newList = newList.union(set(i)) \n",
        "\n",
        "print(sorted(list(newList)))"
      ]
    },
    {
      "cell_type": "markdown",
      "metadata": {
        "id": "T_Re21BdndOz"
      },
      "source": [
        "### `Q5`: Intersection of two lists. Intersection of two list means we need to take all those elements which are common to both of the initial lists and store them into another list. Only use using **list-comprehension**.\n",
        "\n",
        "**Example 1:**\n",
        "\n",
        "Input:\n",
        "```bash\n",
        "lst1 = {15, 9, 10, 56, 23, 78, 5, 4, 9}\n",
        "lst2 = {9, 4, 5, 36, 47, 26, 10, 45, 87}\n",
        "```\n",
        "\n",
        "Output:\n",
        "```bash\n",
        "[9, 10, 4, 5]\n",
        "```\n",
        "\n",
        "**Example 2:**\n",
        "\n",
        "Input:\n",
        "```bash\n",
        "lst1 = {4, 9, 1, 17, 11, 26, 28, 54, 69}\n",
        "lst2 = {9, 9, 74, 21, 45, 11, 63, 28, 26}\n",
        "```\n",
        "\n",
        "Output:\n",
        "```bash\n",
        "[9, 11, 26, 28]\n",
        "```"
      ]
    },
    {
      "cell_type": "code",
      "execution_count": 3,
      "metadata": {
        "id": "nWnL25ftoLVT"
      },
      "outputs": [
        {
          "data": {
            "text/plain": [
              "[4, 5, 9, 10]"
            ]
          },
          "execution_count": 3,
          "metadata": {},
          "output_type": "execute_result"
        }
      ],
      "source": [
        "# write your code here\n",
        "\n",
        "lst1 = {15, 9, 10, 56, 23, 78, 5, 4, 9}\n",
        "lst2 = {9, 4, 5, 36, 47, 26, 10, 45, 87}\n",
        "\n",
        "[i for i in lst1 for j in lst2 if i == j]"
      ]
    },
    {
      "cell_type": "markdown",
      "metadata": {
        "id": "tD2RSYn1a8oA"
      },
      "source": [
        "# Dictionary"
      ]
    },
    {
      "cell_type": "markdown",
      "metadata": {
        "id": "7tUjHhcPbQzQ"
      },
      "source": [
        "### `Q1`: Key with maximum unique values\n",
        "\n",
        "Given a dictionary with values list, extract key whose value has most unique values.\n",
        "\n",
        "**Example 1:**\n",
        "\n",
        "Input:\n",
        "\n",
        "```bash\n",
        "test_dict = {\"CampusX\" : [5, 7, 9, 4, 0], \"is\" : [6, 7, 4, 3, 3], \"Best\" : [9, 9, 6, 5, 5]}\n",
        "```\n",
        "\n",
        "Output:\n",
        "```bash\n",
        "CampusX\n",
        "```\n",
        "\n",
        "**Example 2:**\n",
        "\n",
        "Input:\n",
        "```bash\n",
        "test_dict = {\"CampusX\" : [5, 7, 7, 7, 7], \"is\" : [6, 7, 7, 7], \"Best\" : [9, 9, 6, 5, 5]}\n",
        "```\n",
        "\n",
        "Output:\n",
        "```bash\n",
        "Best\n",
        "```"
      ]
    },
    {
      "cell_type": "code",
      "execution_count": 13,
      "metadata": {
        "id": "N8KHX863lNxL"
      },
      "outputs": [
        {
          "name": "stdout",
          "output_type": "stream",
          "text": [
            "CampusX\n"
          ]
        }
      ],
      "source": [
        "# write your code here\n",
        "\n",
        "\n",
        "test_dict = {\"CampusX\" : [5, 7, 9, 4, 0], \"is\" : [6, 7, 4, 3, 3], \"Best\" : [9, 9, 6, 5, 5]}\n",
        "\n",
        "key = ''\n",
        "\n",
        "for i in test_dict:\n",
        "    if len(set(test_dict[i])) > len(key):\n",
        "        key=i\n",
        "    else:\n",
        "        continue\n",
        "\n",
        "print(key)\n"
      ]
    },
    {
      "cell_type": "markdown",
      "metadata": {
        "id": "_S5X6C84dWdJ"
      },
      "source": [
        "### `Q2`: Replace words from Dictionary. Given String, replace it’s words from lookup dictionary.\n",
        "\n",
        "**Example 1:**\n",
        "\n",
        "Input:\n",
        "\n",
        "```bash\n",
        "test_str = 'CampusX best for DS students.'\n",
        "repl_dict = {\"best\" : \"is the best channel\", \"DS\" : \"Data-Science\"}\n",
        "```\n",
        "\n",
        "Output:\n",
        "\n",
        "```bash\n",
        "CampusX is the best channel for Data-Science students.\n",
        "```\n",
        "\n",
        "**Example 2:**\n",
        "\n",
        "Input:\n",
        "```bash\n",
        "test_str = 'CampusX best for DS students.'\n",
        "repl_dict = {\"good\" : \"is the best channel\", \"ds\" : \"Data-Science\"}\n",
        "```\n",
        "\n",
        "Output:\n",
        "```bash\n",
        "CampusX best for DS students.\n",
        "```"
      ]
    },
    {
      "cell_type": "code",
      "execution_count": 44,
      "metadata": {
        "id": "BTAQ8qnrlOxr"
      },
      "outputs": [
        {
          "name": "stdout",
          "output_type": "stream",
          "text": [
            "CampusX is the best channel for Data-Science students. \n"
          ]
        }
      ],
      "source": [
        "# write your code here\n",
        "\n",
        "test_str = 'CampusX best for DS students.'\n",
        "repl_dict = {\"best\" : \"is the best channel\", \"DS\" : \"Data-Science\"}\n",
        "\n",
        "newList = test_str.split(' ')\n",
        "myStr = ''\n",
        "\n",
        "for i in newList:\n",
        "    for j in repl_dict:\n",
        "        if i == j:\n",
        "            newList[newList.index(i)] = repl_dict[j]\n",
        "        else:\n",
        "            continue\n",
        "        \n",
        "for i in newList:\n",
        "    myStr+=i\n",
        "    myStr+=\" \"\n",
        "    \n",
        "\n",
        "print(myStr)\n"
      ]
    },
    {
      "cell_type": "markdown",
      "metadata": {
        "id": "55xgap3zfbcR"
      },
      "source": [
        "### `Q3`: Convert List to List of dictionaries. Given list values and keys list, convert these values to key value pairs in form of list of dictionaries.\n",
        "\n",
        "**Example 1:**\n",
        "\n",
        "Input:\n",
        "```bash\n",
        "test_list = [\"DataScience\", 3, \"is\", 8]\n",
        "key_list = [\"name\", \"id\"]\n",
        "```\n",
        "\n",
        "Output:\n",
        "\n",
        "```bash\n",
        "[{'name': 'DataScience', 'id': 3}, {'name': 'is', 'id': 8}]\n",
        "```\n",
        "\n",
        "**Example 2:**\n",
        "\n",
        "Input:\n",
        "```bash\n",
        "test_list = [\"CampusX\", 10]\n",
        "key_list = [\"name\", \"id\"]\n",
        "```\n",
        "\n",
        "Output:\n",
        "\n",
        "```bash\n",
        "[{'name': 'CampusX', 'id': 10}]\n",
        "```"
      ]
    },
    {
      "cell_type": "code",
      "execution_count": 99,
      "metadata": {
        "id": "jbCajI87lQFr"
      },
      "outputs": [
        {
          "name": "stdout",
          "output_type": "stream",
          "text": [
            "[{'name': 'DataScience', 'id': 3}, {'name': 'is', 'id': 8}]\n"
          ]
        }
      ],
      "source": [
        "# write your code here\n",
        "\n",
        "test_list = [\"DataScience\", 3, \"is\", 8]\n",
        "key_list = [\"name\", \"id\"]\n",
        "\n",
        "l1 = []\n",
        "\n",
        "for i in range(0, len(test_list), len(key_list)):\n",
        "    d1 = {}\n",
        "    for j in range(0, len(key_list)):\n",
        "        d1[key_list[j]] = test_list[i]\n",
        "        i+=1\n",
        "    l1.append(d1)\n",
        "print(l1)"
      ]
    },
    {
      "cell_type": "markdown",
      "metadata": {
        "id": "5RxBlLQahLkB"
      },
      "source": [
        "### `Q4`: Convert a list of Tuples into Dictionary.\n",
        "\n",
        "**Example 1:**\n",
        "\n",
        "Input:\n",
        "```bash\n",
        "[(\"akash\", 10), (\"gaurav\", 12), (\"anand\", 14), (\"suraj\", 20), (\"akhil\", 25), (\"ashish\", 30)]\n",
        "```\n",
        "\n",
        "Output:\n",
        "```bash\n",
        "{'akash': [10], 'gaurav': [12], 'anand': [14], 'suraj': [20], 'akhil': [25], 'ashish': [30]}\n",
        "```\n",
        "\n",
        "**Example 2:**\n",
        "\n",
        "Input:\n",
        "```bash\n",
        "[('A', 1), ('B', 2), ('C', 3)]\n",
        "```\n",
        "\n",
        "Output:\n",
        "```bash\n",
        "{'A': [1], 'B': [2], 'C': [3]}\n",
        "```"
      ]
    },
    {
      "cell_type": "code",
      "execution_count": 103,
      "metadata": {
        "id": "f1yz7inMlQ5N"
      },
      "outputs": [
        {
          "data": {
            "text/plain": [
              "{'akash': 10,\n",
              " 'gaurav': 12,\n",
              " 'anand': 14,\n",
              " 'suraj': 20,\n",
              " 'akhil': 25,\n",
              " 'ashish': 30}"
            ]
          },
          "execution_count": 103,
          "metadata": {},
          "output_type": "execute_result"
        }
      ],
      "source": [
        "# write your code here\n",
        "\n",
        "l1 = [(\"akash\", 10), (\"gaurav\", 12), (\"anand\", 14), (\"suraj\", 20), (\"akhil\", 25), (\"ashish\", 30)]\n",
        "dict(l1)"
      ]
    },
    {
      "cell_type": "code",
      "execution_count": 105,
      "metadata": {},
      "outputs": [
        {
          "name": "stdout",
          "output_type": "stream",
          "text": [
            "{'akash': [10], 'gaurav': [12], 'anand': [14], 'suraj': [20], 'akhil': [25], 'ashish': [30]}\n"
          ]
        }
      ],
      "source": [
        "l1 = [(\"akash\", 10), (\"gaurav\", 12), (\"anand\", 14), (\"suraj\", 20), (\"akhil\", 25), (\"ashish\", 30)]\n",
        "\n",
        "d1 ={}\n",
        "\n",
        "for i in l1:\n",
        "    d1[i[0]] = [i[-1]]\n",
        "\n",
        "print(d1)"
      ]
    },
    {
      "cell_type": "markdown",
      "metadata": {
        "id": "Fz8EzJD-kBkS"
      },
      "source": [
        "### `Q5`: Sort Dictionary key and values List.\n",
        "\n",
        "**Example 1:**\n",
        "\n",
        "Input:\n",
        "\n",
        "```bash\n",
        "{'c': [3], 'b': [12, 10], 'a': [19, 4]}\n",
        "```\n",
        "\n",
        "Output:\n",
        "\n",
        "```bash\n",
        "{'a': [4, 19], 'b': [10, 12], 'c': [3]}\n",
        "```\n",
        "\n",
        "**Example 2:**\n",
        "\n",
        "Input:\n",
        "\n",
        "```bash\n",
        "{'c': [10, 34, 3]}\n",
        "```\n",
        "\n",
        "Output:\n",
        "\n",
        "```bash\n",
        "{'c': [3, 10, 34]}\n",
        "```"
      ]
    },
    {
      "cell_type": "code",
      "execution_count": 142,
      "metadata": {
        "id": "x9UmJ4EQk7Pp"
      },
      "outputs": [
        {
          "name": "stdout",
          "output_type": "stream",
          "text": [
            "{'c': [3, 10, 34]}\n"
          ]
        }
      ],
      "source": [
        "# write your code here\n",
        "\n",
        "d1 = {'c': [3], 'b': [12, 10], 'a': [19, 4]}\n",
        "d2 = sorted(d1.items())\n",
        "\n",
        "for i in d2:\n",
        "    i[-1].sort()\n",
        "\n",
        "print(dict(d2))\n"
      ]
    }
  ],
  "metadata": {
    "colab": {
      "provenance": []
    },
    "kernelspec": {
      "display_name": "Python 3",
      "name": "python3"
    },
    "language_info": {
      "codemirror_mode": {
        "name": "ipython",
        "version": 3
      },
      "file_extension": ".py",
      "mimetype": "text/x-python",
      "name": "python",
      "nbconvert_exporter": "python",
      "pygments_lexer": "ipython3",
      "version": "3.12.8"
    }
  },
  "nbformat": 4,
  "nbformat_minor": 0
}
