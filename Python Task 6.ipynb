{
  "cells": [
    {
      "cell_type": "markdown",
      "metadata": {
        "id": "h6dDSW5XGZFi"
      },
      "source": [
        "### **`Problem-1:`** Write a Python function that takes a list and returns a new list with unique elements of the first list.\n",
        "\n",
        "**Exercise 1:**\n",
        "\n",
        "Input:\n",
        "\n",
        "```bash\n",
        "[1,2,3,3,3,3,4,5]\n",
        "```\n",
        "\n",
        "Output:\n",
        "\n",
        "```bash\n",
        "[1, 2, 3, 4, 5]\n",
        "```"
      ]
    },
    {
      "cell_type": "code",
      "execution_count": 1,
      "metadata": {
        "id": "R5pq1C9LGe1y"
      },
      "outputs": [
        {
          "data": {
            "text/plain": [
              "[1, 2, 3, 4, 5]"
            ]
          },
          "execution_count": 1,
          "metadata": {},
          "output_type": "execute_result"
        }
      ],
      "source": [
        "def func(a):\n",
        "    b = sorted(set(a))\n",
        "    return b\n",
        "\n",
        "func([1, 2, 3, 4, 5])"
      ]
    },
    {
      "cell_type": "markdown",
      "metadata": {
        "id": "UxQ_VoyJGwHj"
      },
      "source": [
        "### **`Problem-2:`** Write a Python function that accepts a hyphen-separated sequence of words as parameter and returns the words in a hyphen-separated sequence after sorting them alphabetically.\n",
        "\n",
        "**Example 1:**\n",
        "\n",
        "Input:\n",
        "```bash\n",
        "green-red-yellow-black-white\n",
        "```\n",
        "\n",
        "Output:\n",
        "```bash\n",
        "black-green-red-white-yellow\n",
        "```"
      ]
    },
    {
      "cell_type": "code",
      "execution_count": 7,
      "metadata": {
        "id": "AAts2m5zGwiQ"
      },
      "outputs": [
        {
          "data": {
            "text/plain": [
              "'black-green-red-white-yellow'"
            ]
          },
          "execution_count": 7,
          "metadata": {},
          "output_type": "execute_result"
        }
      ],
      "source": [
        "# Write code here\n",
        "\n",
        "def func(s):\n",
        "    a = \"\"\n",
        "    b = sorted(s.split('-'))\n",
        "    for i in b:\n",
        "        a+=i\n",
        "        a+=\"-\"\n",
        "    c = a.removesuffix('-')\n",
        "    return c\n",
        "\n",
        "func(\"green-red-yellow-black-white\")"
      ]
    },
    {
      "cell_type": "markdown",
      "metadata": {
        "id": "IRGH62S7Gx_n"
      },
      "source": [
        "### **`Problem 3:`** Write a Python function that accepts a string and calculate the number of upper case letters and lower case letters.\n",
        "\n",
        "```\n",
        "Sample String : 'CampusX is an Online Mentorship Program fOr EnginEering studentS.'\n",
        "Expected Output :\n",
        "No. of Upper case characters :  9\n",
        "No. of Lower case Characters :  47\n",
        "```"
      ]
    },
    {
      "cell_type": "code",
      "execution_count": 10,
      "metadata": {
        "id": "OaUrD8vVG5o8"
      },
      "outputs": [
        {
          "name": "stdout",
          "output_type": "stream",
          "text": [
            "No. of Upper case characters :  9\n",
            "No. of Lower case Characters :  47\n"
          ]
        }
      ],
      "source": [
        "# Write code here\n",
        "\n",
        "def func(string):\n",
        "    Upper = 0\n",
        "    Lower = 0\n",
        "    for i in string:\n",
        "        if i.isupper():\n",
        "            Upper+=1\n",
        "        elif i.islower():\n",
        "            Lower+=1\n",
        "        else:\n",
        "            continue\n",
        "    print(\"No. of Upper case characters : \", Upper)\n",
        "    print(\"No. of Lower case Characters : \", Lower)\n",
        "\n",
        "func('CampusX is an Online Mentorship Program fOr EnginEering studentS.')"
      ]
    },
    {
      "cell_type": "markdown",
      "metadata": {
        "id": "V1BFFdYQG7Sn"
      },
      "source": [
        "### **`Problem 4:`** Write a Python program to print the even numbers from a given list.\n",
        "```\n",
        "Sample List : [1, 2, 3, 4, 5, 6, 7, 8, 9]\n",
        "Expected Result : [2, 4, 6, 8]\n",
        "```"
      ]
    },
    {
      "cell_type": "code",
      "execution_count": 12,
      "metadata": {
        "id": "VvAReLoDG_Z3"
      },
      "outputs": [
        {
          "data": {
            "text/plain": [
              "[2, 4, 6, 8]"
            ]
          },
          "execution_count": 12,
          "metadata": {},
          "output_type": "execute_result"
        }
      ],
      "source": [
        "# Write code here\n",
        "\n",
        "def func(l1):\n",
        "    l2 = []\n",
        "    for i  in l1:\n",
        "        if i % 2 == 0:\n",
        "            l2.append(i)\n",
        "        else:\n",
        "            continue\n",
        "    return l2\n",
        "func([1, 2, 3, 4, 5, 6, 7, 8, 9])"
      ]
    },
    {
      "cell_type": "markdown",
      "metadata": {
        "id": "qrK39Gn-HHb4"
      },
      "source": [
        "### **`Problem 5:`** Write a Python function to check whether a number is perfect or not.\n",
        "\n",
        "A Perfect number is a number that is half the sum of all of its positive divisors (including itself).\n",
        "\n",
        "Example :\n",
        "\n",
        "```\n",
        "The first perfect number is 6, because 1, 2, and 3 are its proper positive divisors, and 1 + 2 + 3 = 6.\n",
        "Equivalently, the number 6 is equal to half the sum of all its positive divisors: ( 1 + 2 + 3 + 6 ) / 2 = 6.\n",
        "\n",
        "The next perfect number is 28 = 1 + 2 + 4 + 7 + 14. This is followed by the perfect numbers 496 and 8128.\n",
        "```\n"
      ]
    },
    {
      "cell_type": "code",
      "execution_count": 57,
      "metadata": {
        "id": "P-OI7H78HICs"
      },
      "outputs": [
        {
          "data": {
            "text/plain": [
              "'8128 is a perfect Number.'"
            ]
          },
          "execution_count": 57,
          "metadata": {},
          "output_type": "execute_result"
        }
      ],
      "source": [
        "# Write code here\n",
        "\n",
        "def func(n):\n",
        "    Num = n\n",
        "    Sum = 0\n",
        "    for i in range(1, Num):\n",
        "        if Num % i == 0:\n",
        "            Sum+=i\n",
        "        else:\n",
        "            continue\n",
        "    if Num == Sum:\n",
        "        return f\"{Num} is a perfect Number.\"\n",
        "    else:\n",
        "        return f\"{Num} is not perfect Number.\"\n",
        "\n",
        "func(8128)"
      ]
    },
    {
      "cell_type": "markdown",
      "metadata": {
        "id": "oZdpcG77HO-6"
      },
      "source": [
        "### **`Problem-6:`** Write a Python function to concatenate any no of dictionaries to create a new one.\n",
        "\n",
        "```\n",
        "Sample Dictionary :\n",
        "dic1={1:10, 2:20}\n",
        "dic2={3:30, 4:40}\n",
        "dic3={5:50,6:60}\n",
        "Expected Result : {1: 10, 2: 20, 3: 30, 4: 40, 5: 50, 6: 60}\n",
        "```"
      ]
    },
    {
      "cell_type": "code",
      "execution_count": 82,
      "metadata": {
        "id": "LQgfAY4ZHPhj"
      },
      "outputs": [
        {
          "data": {
            "text/plain": [
              "{1: 10, 2: 20, 3: 30, 4: 40, 5: 50, 6: 60}"
            ]
          },
          "execution_count": 82,
          "metadata": {},
          "output_type": "execute_result"
        }
      ],
      "source": [
        "# Write code here\n",
        "\n",
        "def myFunc(myList):\n",
        "    l1 = myList\n",
        "    l2 = {}\n",
        "\n",
        "    for i in range(0, len(l1)):\n",
        "        a = list(l1[i].items())\n",
        "        l2.update(a)\n",
        "\n",
        "    return l2\n",
        "\n",
        "myFunc([{1:10, 2:20}, {3:30, 4:40}, {5:50,6:60}])\n"
      ]
    },
    {
      "cell_type": "markdown",
      "metadata": {
        "id": "jQ6SzbCkHRd0"
      },
      "source": [
        "`Problem-7` Write a python function that accepts a string as input and returns the word with most occurence.\n",
        "\n",
        "```\n",
        "Input:\n",
        "hello how are you i am fine thank you\n",
        "```\n",
        "\n",
        "```\n",
        "Output\n",
        "you -> 2\n",
        "```"
      ]
    },
    {
      "cell_type": "code",
      "execution_count": 99,
      "metadata": {
        "id": "Lh04JHLzIW7Z"
      },
      "outputs": [
        {
          "data": {
            "text/plain": [
              "\"String is 'you' and count is 2\""
            ]
          },
          "execution_count": 99,
          "metadata": {},
          "output_type": "execute_result"
        }
      ],
      "source": [
        "# Write code here\n",
        "\n",
        "def func(string):\n",
        "    l1 = string.split(\" \")\n",
        "\n",
        "    count = 0\n",
        "    mystring = ''\n",
        "    \n",
        "    for i in l1:\n",
        "        if l1.count(i) > count:\n",
        "            count = l1.count(i)\n",
        "            mystring = i\n",
        "        else:\n",
        "            continue\n",
        "    return f\"String is '{mystring}' and count is {count}\"\n",
        "\n",
        "func(\"hello how are you i am fine thank you\")\n"
      ]
    },
    {
      "cell_type": "markdown",
      "metadata": {
        "id": "1r8SpVntI-IW"
      },
      "source": [
        "`Problem-8` Write a python function that receives a list of integers and prints out a histogram of bin size 10\n",
        "\n",
        "```\n",
        "Input:\n",
        "[13,42,15,37,22,39,41,50]\n",
        "```\n",
        "\n",
        "```\n",
        "Output:\n",
        "{11-20:2,21-30:1,31-40:2,41-50:3}\n",
        "```"
      ]
    },
    {
      "cell_type": "code",
      "execution_count": 37,
      "metadata": {
        "id": "7W0J8rUjJovg"
      },
      "outputs": [
        {
          "name": "stdout",
          "output_type": "stream",
          "text": [
            "{'11-20': 2, '41-50': 3, '31-40': 2, '21-30': 1}\n"
          ]
        }
      ],
      "source": [
        "# Write code here\n",
        "\n",
        "l1  = [13,42,15,37,22,39,41,50]\n",
        "d1 = {}\n",
        "\n",
        "for i in l1:\n",
        "    if 11<=i<=20:\n",
        "        d1.update({\"11-20\":d1.get(\"11-20\", 0)+1})\n",
        "    elif 21<=i<=30:\n",
        "        d1.update({\"21-30\":d1.get(\"21-30\", 0)+1})\n",
        "    elif 31<=i<=40:\n",
        "        d1.update({\"31-40\":d1.get(\"31-40\", 0)+1})\n",
        "    elif 41<=i<=50:\n",
        "        d1.update({\"41-50\":d1.get(\"41-50\", 0)+1})\n",
        "    elif 51<=i<=60:\n",
        "        d1.update({\"51-60\":d1.get(\"51-60\", 0)+1})\n",
        "    else:\n",
        "        d1.update({\"60+\":d1.get(\"60+\", 0)+1})\n",
        "\n",
        "print(d1)"
      ]
    },
    {
      "cell_type": "code",
      "execution_count": 35,
      "metadata": {},
      "outputs": [
        {
          "name": "stdout",
          "output_type": "stream",
          "text": [
            "{'11-20': 6, '41-50': 3, '31-40': 4, '21-30': 5}\n"
          ]
        }
      ],
      "source": [
        "# Write code here\n",
        "\n",
        "l1  = [13,42,15,37,22,39,41,50]\n",
        "d1 = {}\n",
        "\n",
        "for i in l1:\n",
        "    if i>=11 and i<=20:\n",
        "        d1.update({\"11-20\":4})\n",
        "    elif i>=21 and i<=30:\n",
        "        d1.update({\"21-30\":5})\n",
        "    elif i>=31 and i<=40:\n",
        "        d1.update({\"31-40\":4})\n",
        "    elif i>=41 and i<=50:\n",
        "        d1.update({\"41-50\":3})\n",
        "    elif i>=51 and i<=60:\n",
        "        d1.update({\"51-60\":2})\n",
        "    else:\n",
        "        d1.update({\"60+\":1})\n",
        "\n",
        "print(d1)"
      ]
    },
    {
      "cell_type": "markdown",
      "metadata": {
        "id": "1P2-rbgXKE53"
      },
      "source": [
        "`Problem-9` Write a python function that accepts a list of 2D co-ordinates and a query point, and then finds the the co-ordinate which is closest in terms of distance from the query point.\n",
        "\n",
        "```\n",
        "List of Coordinates\n",
        "[(1,1),(2,2),(3,3),(4,4)]\n",
        "Query Point\n",
        "(0,0)\n",
        "```\n",
        "\n",
        "```\n",
        "Output\n",
        "Nearest to (0,0) is (1,1)\n",
        "```"
      ]
    },
    {
      "cell_type": "code",
      "execution_count": 31,
      "metadata": {
        "id": "zjn7vSTIJ81G"
      },
      "outputs": [
        {
          "data": {
            "text/plain": [
              "((1, 1), 1.4142135623730951)"
            ]
          },
          "execution_count": 31,
          "metadata": {},
          "output_type": "execute_result"
        }
      ],
      "source": [
        "# Write code here\n",
        "import math\n",
        "from functools import reduce\n",
        "\n",
        "def func(l1):\n",
        "    QP = (0,0)\n",
        "    dl = []\n",
        "\n",
        "    for i in l1:\n",
        "        x1 = i[0]\n",
        "        y1 = i[1]\n",
        "        x2 = QP[0]\n",
        "        y2 = QP[1]\n",
        "\n",
        "        result = math.sqrt((x2-x1)**2 + (y2-y1)**2)\n",
        "        dl.append((i,result))\n",
        "\n",
        "    NP = reduce(lambda x, y: x if x[1]<y[1] else y, dl) # Have doubt in this line\n",
        "    \n",
        "    return NP\n",
        "\n",
        "func([(1,1),(2,2),(3,3),(4,4)])"
      ]
    },
    {
      "cell_type": "markdown",
      "metadata": {
        "id": "i-B6igmyK9hB"
      },
      "source": [
        "`Problem-10`:Write a python program that receives a list of strings and performs bag of word operation on those strings\n",
        "\n",
        "https://en.wikipedia.org/wiki/Bag-of-words_model"
      ]
    },
    {
      "cell_type": "code",
      "execution_count": 21,
      "metadata": {},
      "outputs": [
        {
          "data": {
            "text/plain": [
              "{'John': 3,\n",
              " 'likes': 9,\n",
              " 'to': 6,\n",
              " 'watch': 6,\n",
              " 'movies': 6,\n",
              " 'Mary': 6,\n",
              " 'too': 3,\n",
              " 'also': 3,\n",
              " 'football': 3,\n",
              " 'games': 3,\n",
              " '': 1}"
            ]
          },
          "execution_count": 21,
          "metadata": {},
          "output_type": "execute_result"
        }
      ],
      "source": [
        "# Write code here\n",
        "\n",
        "s1 = \"John likes to watch movies. Mary likes movies too.\"\n",
        "s2 = \"Mary also likes to watch football games.\"\n",
        "s3 = \"John likes to watch movies. Mary likes movies too.\"\n",
        "s4 = \"Mary also likes to watch football games.\"\n",
        "s5 = \"John likes to watch movies. Mary likes movies too.\"\n",
        "s6 = \"Mary also likes to watch football games.\"\n",
        "\n",
        "def func(l1):\n",
        "    l2 = []\n",
        "    dic = {}\n",
        "\n",
        "    for i in l1:\n",
        "        string = \"\"\n",
        "        for j in i:\n",
        "            if j == \".\":\n",
        "                continue\n",
        "            else:\n",
        "                string+=j\n",
        "        l2.append(string)\n",
        "\n",
        "    string2 = \"\"\n",
        "    for i in l2:\n",
        "        string2+=i\n",
        "        string2+=\" \"\n",
        "\n",
        "    l = string2.split(\" \")\n",
        "    for i in l:\n",
        "        dic.update({i: l.count(i)})\n",
        "\n",
        "    return dic\n",
        "\n",
        "l1 = [s1, s2, s3, s4, s5, s6]\n",
        "\n",
        "func(l1)"
      ]
    },
    {
      "cell_type": "markdown",
      "metadata": {
        "id": "dHTRKb-DqMLw"
      },
      "source": [
        "###`Problem 11:` Write a Python program to add three given lists using Python map and lambda."
      ]
    },
    {
      "cell_type": "code",
      "execution_count": 34,
      "metadata": {
        "id": "NfJdzyNZqNW-"
      },
      "outputs": [
        {
          "name": "stdout",
          "output_type": "stream",
          "text": [
            "[17, 24, 11, 20]\n"
          ]
        }
      ],
      "source": [
        "# Write code here\n",
        "l1 = [5, 6, 7, 8]\n",
        "l2 = [9, 10, 3, 1]\n",
        "l3 = [3, 8, 1, 11]\n",
        "\n",
        "mapping = map(lambda x,y,z: x+y+z, l1, l2, l3)\n",
        "print(list(mapping))"
      ]
    },
    {
      "cell_type": "markdown",
      "metadata": {
        "id": "MgHP7mbUqO8l"
      },
      "source": [
        "###`Problem-12:`Write a Python program to create a list containing the power of said number in bases raised to the corresponding number in the index using Python map.\n",
        "`Input:`\n",
        "```\n",
        "list1 = [1,2,3,4,5,6]\n",
        "```\n",
        "`Output:`\n",
        "```\n",
        "[1,2,9,64,625,-]\n",
        "```\n"
      ]
    },
    {
      "cell_type": "code",
      "execution_count": 7,
      "metadata": {
        "id": "gG3Dc6N3qbvN"
      },
      "outputs": [
        {
          "name": "stdout",
          "output_type": "stream",
          "text": [
            "[1, 2, 9, 64, 625, 7776]\n"
          ]
        }
      ],
      "source": [
        "# Write code here\n",
        "from functools import reduce\n",
        "\n",
        "list1 = [1,2,3,4,5,6]\n",
        "\n",
        "red = map(lambda x: x**(x-1), list1)\n",
        "print(list(red))"
      ]
    },
    {
      "cell_type": "markdown",
      "metadata": {
        "id": "G26SYq6vqdLN"
      },
      "source": [
        "###`Problem-13` Using filter() and list() functions and .lower() method filter all the vowels in a given string.\n",
        "\n"
      ]
    },
    {
      "cell_type": "code",
      "execution_count": 21,
      "metadata": {
        "id": "zurga3DIqmEx"
      },
      "outputs": [
        {
          "name": "stdout",
          "output_type": "stream",
          "text": [
            "['o', 'i', 'e', 'o', 'a', 'o', 'i', 'e', 'a', 'i', 'e', 'o', 'i', 'e', 'o', 'o']\n"
          ]
        }
      ],
      "source": [
        "# Write code here\n",
        "\n",
        "string1 = \"John likes to watch movies. Mary likes movies too.\"\n",
        "list1 = list(string1.lower())\n",
        "vowel = ['a','e','i','o','u']\n",
        "\n",
        "sen = filter(lambda x: x in vowel, list1)\n",
        "print(list(sen))\n"
      ]
    },
    {
      "cell_type": "markdown",
      "metadata": {
        "id": "uQrsunZSqoYu"
      },
      "source": [
        "`Problem-14`: Use reduce to convert a 2D list to 1D"
      ]
    },
    {
      "cell_type": "code",
      "execution_count": 24,
      "metadata": {
        "id": "E1YUwnfgqnka"
      },
      "outputs": [
        {
          "name": "stdout",
          "output_type": "stream",
          "text": [
            "[1, 2, 3, 4, 5, 6]\n"
          ]
        }
      ],
      "source": [
        "# Write code here\n",
        "\n",
        "list1 = [[1,2],[3,4],[5,6]]\n",
        "\n",
        "list2 = reduce(lambda x,y: x+y, list1)\n",
        "print(list(list2))\n",
        "\n"
      ]
    },
    {
      "cell_type": "markdown",
      "metadata": {
        "id": "8-DLQEawt-_t"
      },
      "source": [
        "`Problem 15`- A dictionary contains following information about 5 employees:\n",
        "- First name\n",
        "- Last name\n",
        "- Age\n",
        "- Grade(Skilled,Semi-skilled,Highly skilled)<br>\n",
        "Write a program using map/filter/reduce to a list of employees(first name + last name) who are highly skilled"
      ]
    },
    {
      "cell_type": "code",
      "execution_count": 26,
      "metadata": {
        "id": "OLvptttLs6OU"
      },
      "outputs": [],
      "source": [
        "# Write code here\n",
        "employees = [\n",
        "    {\n",
        "        'fname':'Nitish',\n",
        "        'lname':'Singh',\n",
        "        'age' : 33,\n",
        "        'grade':'skilled'\n",
        "    },\n",
        "    {\n",
        "        'fname':'Ankit',\n",
        "        'lname':'Verma',\n",
        "        'age' : 34,\n",
        "        'grade':'semi-skilled'\n",
        "    },\n",
        "    {\n",
        "        'fname':'Neha',\n",
        "        'lname':'Singh',\n",
        "        'age' : 35,\n",
        "        'grade':'highly-skilled'\n",
        "    },\n",
        "    {\n",
        "        'fname':'Anurag',\n",
        "        'lname':'Kumar',\n",
        "        'age' : 30,\n",
        "        'grade':'skilled'\n",
        "    },\n",
        "    {\n",
        "        'fname':'Abhinav',\n",
        "        'lname':'Sharma',\n",
        "        'age' : 37,\n",
        "        'grade':'highly-skilled'\n",
        "    }\n",
        "\n",
        "]"
      ]
    },
    {
      "cell_type": "code",
      "execution_count": 28,
      "metadata": {},
      "outputs": [
        {
          "data": {
            "text/plain": [
              "[None, None, 'Neha Singh', None, 'Abhinav Sharma']"
            ]
          },
          "execution_count": 28,
          "metadata": {},
          "output_type": "execute_result"
        }
      ],
      "source": [
        "list(map(lambda x: x['fname'] + ' ' + x['lname'] if x['grade']=='highly-skilled' else None, employees))"
      ]
    },
    {
      "cell_type": "code",
      "execution_count": 29,
      "metadata": {},
      "outputs": [
        {
          "data": {
            "text/plain": [
              "[{'fname': 'Neha', 'lname': 'Singh', 'age': 35, 'grade': 'highly-skilled'},\n",
              " {'fname': 'Abhinav', 'lname': 'Sharma', 'age': 37, 'grade': 'highly-skilled'}]"
            ]
          },
          "execution_count": 29,
          "metadata": {},
          "output_type": "execute_result"
        }
      ],
      "source": [
        "list(filter(lambda x:True if x['grade'] == 'highly-skilled' else False,employees))"
      ]
    },
    {
      "cell_type": "code",
      "execution_count": null,
      "metadata": {
        "colab": {
          "base_uri": "https://localhost:8080/"
        },
        "id": "vLX0FAQkui3y",
        "outputId": "e7d50543-c30e-4a20-c793-756f5a435df7"
      },
      "outputs": [
        {
          "data": {
            "text/plain": [
              "['Neha Singh', 'Abhinav Sharma']"
            ]
          },
          "execution_count": 17,
          "metadata": {},
          "output_type": "execute_result"
        }
      ],
      "source": [
        "list(map(lambda x:x['fname'] + ' ' + x['lname'],list(filter(lambda x:True if x['grade'] == 'highly-skilled' else False,employees))))"
      ]
    },
    {
      "cell_type": "code",
      "execution_count": null,
      "metadata": {
        "id": "ldMjGfkgAMr9"
      },
      "outputs": [],
      "source": []
    }
  ],
  "metadata": {
    "colab": {
      "provenance": []
    },
    "kernelspec": {
      "display_name": "Python 3",
      "name": "python3"
    },
    "language_info": {
      "codemirror_mode": {
        "name": "ipython",
        "version": 3
      },
      "file_extension": ".py",
      "mimetype": "text/x-python",
      "name": "python",
      "nbconvert_exporter": "python",
      "pygments_lexer": "ipython3",
      "version": "3.12.8"
    }
  },
  "nbformat": 4,
  "nbformat_minor": 0
}
