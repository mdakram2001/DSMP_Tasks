{
  "cells": [
    {
      "cell_type": "markdown",
      "metadata": {
        "id": "MbeMdx5d5qRj"
      },
      "source": [
        "### `Q-1:` Write a function `get_final_line(filename)`, which takes filename as input and return final line of the file.\n",
        "\n",
        "Note: You can choose any file of your choice."
      ]
    },
    {
      "cell_type": "code",
      "execution_count": null,
      "metadata": {
        "id": "rjx9XRTq5uzD"
      },
      "outputs": [],
      "source": [
        "# Write code here \n",
        "\n",
        "def get_final_line(filename):\n",
        "\n",
        "    f = open(filename, 'r')\n",
        "\n",
        "    rl = 0\n",
        "    while rl != '':\n",
        "        \n",
        "        data = rl\n",
        "        rl = f.readline()\n",
        "\n",
        "    f.close()\n",
        "    return data\n",
        "\n",
        "print(get_final_line('sample.txt'))\n"
      ]
    },
    {
      "cell_type": "markdown",
      "metadata": {
        "id": "B87Z6-yQ5wVO"
      },
      "source": [
        "###`Q-2:` Read through a text file, line by line. Use a dict to keep track of how many times each vowel (a, e, i, o, and u) appears in the file. Print the resulting tabulation -- dictionary."
      ]
    },
    {
      "cell_type": "code",
      "execution_count": null,
      "metadata": {
        "id": "XeXnOL7X50Sa"
      },
      "outputs": [],
      "source": [
        "# Write code here \n",
        "\n",
        "def get_final_line(filename):\n",
        "\n",
        "    f = open(filename, 'r')\n",
        "\n",
        "    vowel = ['a', 'e', 'i', 'o', 'u']\n",
        "    dictionary = {}\n",
        "\n",
        "    rl = 0\n",
        "    while rl != '':\n",
        "     \n",
        "        rl = f.readline()\n",
        "\n",
        "        for i in rl:\n",
        "            if i in vowel:\n",
        "                if i in dictionary:\n",
        "                    dictionary[i] +=1\n",
        "                else:\n",
        "                    dictionary[i] = 1\n",
        "            else:\n",
        "                continue\n",
        "\n",
        "    f.close()\n",
        "\n",
        "    return dictionary\n",
        "\n",
        "print(get_final_line('sample.txt'))\n"
      ]
    },
    {
      "cell_type": "markdown",
      "metadata": {
        "id": "lRqQ2Y295-Gg"
      },
      "source": [
        "###`Q-3:` Create a text file (using an editor, not necessarily Python) containing two tab separated columns, with each column containing a number. Then use Python to read through the file you’ve created. For each line, multiply each first number by the second and include it in the file in third column. In last add a line Total, by summing the value of third column\n",
        "\n"
      ]
    },
    {
      "cell_type": "markdown",
      "metadata": {
        "id": "GtFfahZc6Bvg"
      },
      "source": [
        "Input File example: That you need to create\n",
        "```\n",
        "1   2\n",
        "3   4\n",
        "5   6\n",
        "7   8\n",
        "9   10\n",
        "\n",
        "```\n",
        "\n",
        "Output File Example:\n",
        "```\n",
        "1   2   2\n",
        "3   4   12\n",
        "5   6   30\n",
        "7   8   56\n",
        "9   10  90\n",
        "Total   190\n",
        "```\n"
      ]
    },
    {
      "cell_type": "code",
      "execution_count": null,
      "metadata": {
        "id": "GiKvqHnr5-j2"
      },
      "outputs": [],
      "source": [
        "# write code here\n",
        "\n",
        "write = open('sample.txt', 'w')\n",
        "for i in range(1,11,2):\n",
        "    write.writelines(f'{i}  {i+1}\\n')\n",
        "write.close()\n",
        "\n",
        "read = open('sample.txt', 'r')\n",
        "r = read.readlines()\n",
        "print(r)\n",
        "read.close()\n",
        "\n",
        "writeResult = open('sample.txt', 'w')\n",
        "for i in r:\n",
        "    s = i.strip()\n",
        "    s = s.split(\" \")\n",
        "    print(s)\n",
        "    writeResult.writelines(f'{s[0]}  {s[-1]}  {int(s[0])*int(s[-1])}\\n')\n",
        "writeResult.close()"
      ]
    },
    {
      "cell_type": "markdown",
      "metadata": {
        "id": "DunQepHC6J9r"
      },
      "source": [
        "###`Q-4:` Create line wise reverse of a file\n",
        "Write a function which takes two arguments: the names of the input file (to be read from) and the output file (which will be created)."
      ]
    },
    {
      "cell_type": "markdown",
      "metadata": {
        "id": "QxWEtFle6Nmu"
      },
      "source": [
        "For example, if a file looks like\n",
        " ```\n",
        "abc def\n",
        "ghi jkl\n",
        "```\n",
        "then the output file will be\n",
        "```\n",
        "fed cba\n",
        "lkj ihg\n",
        "```\n",
        "**Notice**: The newline remains at the end of the string, while the rest of the characters are all reversed."
      ]
    },
    {
      "cell_type": "code",
      "execution_count": null,
      "metadata": {
        "id": "aIJTJNAq6LD7"
      },
      "outputs": [],
      "source": [
        "# write code here\n",
        "\n",
        "def reverse(string):\n",
        "    rev = string[::-1]\n",
        "    return rev\n",
        "\n",
        "read = open('sample.txt', 'r')\n",
        "write = open('samplerev.txt', 'w')\n",
        "\n",
        "while True:\n",
        "    a = read.readline()\n",
        "    a = a.strip()\n",
        "    b = reverse(a)\n",
        "    if a == '':\n",
        "        break\n",
        "    else:\n",
        "        write.writelines(f'{b}\\n')\n",
        "\n",
        "\n",
        "read.close()\n",
        "write.close()"
      ]
    },
    {
      "cell_type": "markdown",
      "metadata": {
        "id": "wqvx3sMY6bou"
      },
      "source": [
        "###`Q-5:` Create a Serialized dict of frequency of words in the file. And from given list of words, using serialized dict show word count.\n",
        "\n",
        "* List of word will be given\n",
        "\n"
      ]
    },
    {
      "cell_type": "markdown",
      "metadata": {
        "id": "uc5MSUWg6cZG"
      },
      "source": [
        "Given String\n",
        "\n",
        "```\n",
        "strings = \"\"\"Alice was beginning to get very tired of sitting by her sister\n",
        "            on the bank, and of having nothing to do:  once or twice she had\n",
        "            peeped into the book her sister was reading, but it had no\n",
        "            pictures or conversations in it, `and what is the use of a book,'\n",
        "            thought Alice `without pictures or conversation?'\n",
        "\n",
        "            So she was considering in her own mind (as well as she could,\n",
        "            for the hot day made her feel very sleepy and stupid), whether\n",
        "            the pleasure of making a daisy-chain would be worth the trouble\n",
        "            of getting up and picking the daisies, when suddenly a White\n",
        "            Rabbit with pink eyes ran close by her.\n",
        "\n",
        "            There was nothing so VERY remarkable in that; nor did Alice\n",
        "            think it so VERY much out of the way to hear the Rabbit say to\n",
        "            itself, `Oh dear!  Oh dear!  I shall be late!'  (when she thought\n",
        "            it over afterwards, it occurred to her that she ought to have\n",
        "            wondered at this, but at the time it all seemed quite natural);\n",
        "            but when the Rabbit actually TOOK A WATCH OUT OF ITS WAISTCOAT-\n",
        "            POCKET, and looked at it, and then hurried on, Alice started to\n",
        "            her feet, for it flashed across her mind that she had never\n",
        "            before seen a rabbit with either a waistcoat-pocket, or a watch to\n",
        "            take out of it, and burning with curiosity, she ran across the\n",
        "            field after it, and fortunately was just in time to see it pop\n",
        "            down a large rabbit-hole under the hedge.\"\"\"\n",
        "\n",
        "word_list = ['alice', 'wonder', 'natural']\n",
        "```"
      ]
    },
    {
      "cell_type": "code",
      "execution_count": null,
      "metadata": {
        "id": "-SmtFFUq6a70"
      },
      "outputs": [],
      "source": [
        "# write code here\n",
        "\n",
        "strings = \"\"\"Alice was beginning to get very tired of sitting by her sister on the bank , and of having nothing to do . Once or twice she had peeped into the book her sister was reading , but it had no pictures or conversations in it , ' and what is the use of a book ' thought Alice ' without pictures or conversation ? ' \n",
        "So she was considering in her own mind ( as well as she could , for the hot day made her feel very sleepy and stupid ) , whether the pleasure of making a daisy-chain would be worth the trouble of getting up and picking the daisies , when suddenly a White Rabbit with pink eyes ran close by her . \n",
        "There was nothing so VERY remarkable in that ; nor did Alice think it so VERY much out of the way to hear the Rabbit say to itself , ` Oh dear !  Oh dear !  I shall be late ! '  ( when she thought it over afterwards , it occurred to her that she ought to have wondered at this , but at the time it all seemed quite natural ) ; but when the Rabbit actually TOOK A WATCH OUT OF ITS WAISTCOAT-POCKET , and looked at it , and then hurried on , Alice started to her feet , for it flashed across her mind that she had never before seen a rabbit with either a waistcoat-pocket , or a watch to take out of it , and burning with curiosity , she ran across the field after it , and fortunately was just in time to see it pop down a large rabbit-hole under the hedge Arabas arabas .\"\"\"\n",
        "\n",
        "word_list = ['alice', 'wonder', 'natural']\n",
        "\n",
        "def wordSearch(strings, searchWords):\n",
        "    stringlist = strings.split(\" \")\n",
        "    newStringlist = [string.strip().upper() for string in stringlist]\n",
        "    newStringlist.sort()\n",
        "    wordDictonary = {}\n",
        "    for i in newStringlist:\n",
        "        if i in wordDictonary:\n",
        "            continue\n",
        "        else:\n",
        "            wordDictonary[i] = newStringlist.count(i)\n",
        "\n",
        "    for i in searchWords:\n",
        "        i = i.strip().upper()\n",
        "        if i in wordDictonary:\n",
        "            print(f'{i.capitalize()} : {wordDictonary[i]}')\n",
        "        else:\n",
        "            print(f'{i.capitalize()} is not available in the strings.')\n",
        "\n",
        "wordSearch(strings, word_list)\n"
      ]
    },
    {
      "cell_type": "markdown",
      "metadata": {
        "id": "Und2HuFW6kAw"
      },
      "source": [
        "### **`Q-6:`** Given a string calculate length of the string using recursion.\n",
        "\n",
        "**Example 1:**\n",
        "\n",
        "Input:\n",
        "```bash\n",
        "\"abcd\"\n",
        "```\n",
        "\n",
        "Output:\n",
        "\n",
        "```bash\n",
        "4\n",
        "```\n",
        "\n",
        "**Example 2:**\n",
        "\n",
        "Input:\n",
        "```bash\n",
        "DataScience\n",
        "```\n",
        "\n",
        "Output:\n",
        "\n",
        "```bash\n",
        "11\n",
        "```\n"
      ]
    },
    {
      "cell_type": "code",
      "execution_count": null,
      "metadata": {
        "id": "9HE7lB5W61gT"
      },
      "outputs": [],
      "source": [
        "# Write code here\n",
        "\n",
        "\n",
        "def lenCalc(string, count = 0):\n",
        "    if len(string) == 0:\n",
        "        return count\n",
        "    else:\n",
        "        string = string[0:len(string)-1:]\n",
        "        count+=1\n",
        "        return lenCalc(string, count)\n",
        "\n",
        "print(lenCalc(\"DataScience\"))\n",
        "\n",
        "\n"
      ]
    },
    {
      "cell_type": "markdown",
      "metadata": {
        "id": "iUDvc-jl6759"
      },
      "source": [
        "### **`Q-7:`** Write a function that accepts two numbers and returns their greatest common divisior. Without using any loop\n",
        "\n",
        "def gcd(int, int) => int\n",
        "\n",
        "```\n",
        "gcd(16,24) will give 8\n",
        "```"
      ]
    },
    {
      "cell_type": "code",
      "execution_count": null,
      "metadata": {
        "id": "uMQnojHR7O2S"
      },
      "outputs": [],
      "source": [
        "# Write code here\n",
        "\n",
        "def gcd(num1,num2):\n",
        "    rem = max(num1,num2) % min(num1,num2)\n",
        "    if rem == 0:\n",
        "        return min(num1,num2)\n",
        "    else:\n",
        "        return gcd(min(num1,num2), rem)\n",
        "    \n",
        "print(gcd(16,24))"
      ]
    },
    {
      "cell_type": "markdown",
      "metadata": {
        "id": "wFD35fva7Q_B"
      },
      "source": [
        " ### `Q-8:` String Edit Distance\n",
        "\n",
        " Use your recursive function to write a program that reads two strings from the\n",
        "user and displays the edit distance between them.\n",
        "\n",
        "*The edit distance between two strings is a measure of their similarity—the smaller the edit distance, the more similar the strings are with regard to the minimum number of insert, delete and substitute operations needed to transform one string into the other.*\n",
        "\n",
        "Consider the strings `kitten` and `sitting`. The first string can be transformed\n",
        "into the second string with the following operations:\n",
        "* Substitute the `k` with an `s`,\n",
        "* substitute the `e` with an `i`,\n",
        "* and insert a `g` at the end of the string.\n",
        "\n",
        "This is the smallest number of operations that can be performed to transform kitten into sitting. As a result, the edit distance is `3`.\n",
        "\n",
        "\n",
        "Write a recursive function that computes the edit distance between two strings.\n",
        "\n",
        "Use the following algorithm:\n",
        "\n",
        "```\n",
        "Let s and t be the strings\n",
        "    If the length of s is 0 then\n",
        "        Return the length of t\n",
        "    Else if the length of t is 0 then\n",
        "        Return the length of s\n",
        "    Else\n",
        "        Set cost to 0\n",
        "        If the last character in s does not equal the last character in t then\n",
        "            Set cost to 1\n",
        "        Set d1 equal to the edit distance between all characters except the last one in s, and all characters in t, plus 1\n",
        "        Set d2 equal to the edit distance between all characters in s, and all characters except the last one in t, plus 1\n",
        "\n",
        "        Set d3 equal to the edit distance between all characters except the last one in s, and all characters except the last one in t, plus cost\n",
        "        Return the minimum of d1, d2 and d3\n",
        "```\n",
        "\n",
        "\n",
        "\n"
      ]
    },
    {
      "cell_type": "code",
      "execution_count": null,
      "metadata": {
        "id": "zlNy_Q987QOX"
      },
      "outputs": [],
      "source": [
        "# write code here"
      ]
    },
    {
      "cell_type": "markdown",
      "metadata": {
        "id": "Hc9e-qES7iAK"
      },
      "source": [
        "###`Q-9:` Run-Length Encoding\n",
        "\n",
        "Run-length encoding is a simple data compression technique that can be effective when repeated values occur at adjacent positions within a list. Compression is achieved by replacing groups of repeated values with one copy of the value, followed by the number of times that the value should be repeated. For example, the list\n",
        "```\n",
        "[\"A\", \"A\", \"A\", \"A\", \"A\", \"A\", \"A\", \"A\", \"A\", \"A\", \"A\", \"A\", \"B\", \"B\", \"B\", \"B\", \"A\", \"A\", \"A\", \"A\", \"A\", \"A\", \"B\"]\n",
        "```\n",
        "would be compressed as `[\"A\", 12, \"B\", 4, \"A\", 6, \"B\", 1]`.\n",
        "\n",
        "Write a recursive function that implements the run-length compression technique\n",
        "described above. Your function will take a list or a string as its only parameter. It should return the run-length compressed list as its only result. Include a main program that reads a string from the user, compresses it, and displays the run-length encoded result."
      ]
    },
    {
      "cell_type": "code",
      "execution_count": null,
      "metadata": {
        "id": "W2Wb_WzP7qM1"
      },
      "outputs": [],
      "source": [
        "# Write code here\n",
        "s = 'aaabaccbbbbfggggkkkkkkjj'\n",
        "\n",
        "def length_encoding(string, lst=[], count=0):\n",
        "    if len(string) > 1:\n",
        "        if string[0] == string[1]:\n",
        "            count+=1\n",
        "            return length_encoding(string[1:len(string):], lst, count)\n",
        "        else:\n",
        "            count+=1\n",
        "            lst.append(string[0])\n",
        "            lst.append(count)\n",
        "            return length_encoding(string[1:len(string):], lst, count=0)\n",
        "    else:\n",
        "        if count>0:\n",
        "            lst.append(string)\n",
        "            count+=1\n",
        "            lst.append(count)\n",
        "        else:\n",
        "            lst.append(string[0])\n",
        "            lst.append(len(string))\n",
        "        return lst\n",
        "        \n",
        "\n",
        "print(length_encoding(s))"
      ]
    },
    {
      "cell_type": "markdown",
      "metadata": {
        "id": "x6A-4vGC8SLs"
      },
      "source": [
        "###`Q-10:` Write a recursive function to convert a decimal to binary"
      ]
    },
    {
      "cell_type": "code",
      "execution_count": null,
      "metadata": {
        "id": "izOr6D9V8aME"
      },
      "outputs": [],
      "source": [
        "# Write code here\n",
        "\n",
        "def reverse(string):\n",
        "    rev = string[::-1]\n",
        "    return rev\n",
        "\n",
        "def decimalToBinary(number, binary=''):\n",
        "    if number == 0:\n",
        "        binary += '0'\n",
        "        return reverse(binary)\n",
        "    elif number == 1:\n",
        "        binary += '1'\n",
        "        return reverse(binary)\n",
        "    else:\n",
        "        rem = number%2\n",
        "        binary += str(rem)\n",
        "        number = number//2\n",
        "        return decimalToBinary(number, binary)\n",
        "    \n",
        "print(decimalToBinary(16))"
      ]
    }
  ],
  "metadata": {
    "colab": {
      "provenance": []
    },
    "kernelspec": {
      "display_name": "Python 3",
      "name": "python3"
    },
    "language_info": {
      "name": "python"
    }
  },
  "nbformat": 4,
  "nbformat_minor": 0
}
